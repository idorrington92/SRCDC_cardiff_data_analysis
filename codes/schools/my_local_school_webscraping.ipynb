{
 "cells": [
  {
   "cell_type": "code",
   "execution_count": 3,
   "metadata": {},
   "outputs": [],
   "source": [
    "import requests"
   ]
  },
  {
   "cell_type": "code",
   "execution_count": 108,
   "metadata": {},
   "outputs": [],
   "source": [
    "list_of_schools = ['Severn Primary','St. Mary\\'s R.C. Primary School']"
   ]
  },
  {
   "cell_type": "code",
   "execution_count": 4,
   "metadata": {},
   "outputs": [],
   "source": [
    "toppage = requests.get(\"http://mylocalschool.wales.gov.uk/Schools/SchoolSearch?lang=en\")"
   ]
  },
  {
   "cell_type": "code",
   "execution_count": 5,
   "metadata": {},
   "outputs": [],
   "source": [
    "from bs4 import BeautifulSoup"
   ]
  },
  {
   "cell_type": "code",
   "execution_count": 44,
   "metadata": {},
   "outputs": [],
   "source": [
    "soup = BeautifulSoup(toppage.content, 'html.parser')"
   ]
  },
  {
   "cell_type": "code",
   "execution_count": 72,
   "metadata": {},
   "outputs": [],
   "source": [
    "school_links = soup.select(\"a[href*=/School]\")[2:]"
   ]
  },
  {
   "cell_type": "code",
   "execution_count": null,
   "metadata": {},
   "outputs": [],
   "source": []
  },
  {
   "cell_type": "code",
   "execution_count": 102,
   "metadata": {},
   "outputs": [],
   "source": [
    "schools = [list(school.children)[0] for school in school_links]"
   ]
  },
  {
   "cell_type": "code",
   "execution_count": 103,
   "metadata": {},
   "outputs": [],
   "source": [
    "school_URLs = [\"http://mylocalschool.wales.gov.uk\" + school['href'] for school in school_links]"
   ]
  },
  {
   "cell_type": "code",
   "execution_count": null,
   "metadata": {},
   "outputs": [],
   "source": []
  },
  {
   "cell_type": "code",
   "execution_count": 105,
   "metadata": {},
   "outputs": [],
   "source": [
    "schoolURL_dict = {}"
   ]
  },
  {
   "cell_type": "code",
   "execution_count": 185,
   "metadata": {},
   "outputs": [],
   "source": [
    "for s,school in enumerate(schools):\n",
    "    schoolURL_dict[school] = school_URLs[s]"
   ]
  },
  {
   "cell_type": "code",
   "execution_count": null,
   "metadata": {},
   "outputs": [],
   "source": []
  },
  {
   "cell_type": "code",
   "execution_count": 186,
   "metadata": {},
   "outputs": [],
   "source": [
    "school_soup = {}\n",
    "for school in list_of_schools:\n",
    "    school_pages = requests.get(schoolURL_dict[school])\n",
    "    school_soup[school] = BeautifulSoup(school_pages.content, 'html.parser')"
   ]
  },
  {
   "cell_type": "code",
   "execution_count": 187,
   "metadata": {},
   "outputs": [],
   "source": []
  },
  {
   "cell_type": "code",
   "execution_count": 309,
   "metadata": {},
   "outputs": [],
   "source": [
    "def make_stat_dict(schoolURL):\n",
    "    school_pages = requests.get(schoolURL)\n",
    "    school_soup = BeautifulSoup(school_pages.content, 'html.parser')\n",
    "    summary = school_soup.find_all('div', class_=\"summaryBox\")\n",
    "    stat_dict = {}\n",
    "    for i in range(8):\n",
    "        stat = ''.join(char for char in list(summary[i].children)[1].getText() if char.isalnum() or char=='.')\n",
    "        if stat.isnumeric(): stat=float(stat)\n",
    "        stat_name = (''.join(char for char in list(summary[i].children)[3].getText() if char.isalnum() or char==' ')).strip()\n",
    "        if '%' in list(summary[i].children)[1].getText(): stat_name += \"(%)\"\n",
    "        stat_dict[stat_name] = stat\n",
    "    return stat_dict"
   ]
  },
  {
   "cell_type": "code",
   "execution_count": 310,
   "metadata": {},
   "outputs": [],
   "source": [
    "the_grand_dict = {}\n",
    "for school in list_of_schools:\n",
    "    the_grand_dict[school] = make_stat_dict(schoolURL_dict[school])"
   ]
  },
  {
   "cell_type": "code",
   "execution_count": 311,
   "metadata": {},
   "outputs": [
    {
     "data": {
      "text/plain": [
       "{'Attendance during the year Primary only(%)': '93.9',\n",
       " 'Free school meals FSM  3 year average Primary only(%)': 24.0,\n",
       " 'Number of Pupils 2017': 482.0,\n",
       " 'Pupil Teacher Ratio PTR Primary only': '20.9',\n",
       " 'Pupils achieving the expected outcome in the Foundation Phase areas of learning(%)': '85.5',\n",
       " 'Pupils who have reached the expected level  Core subject indicator Key Stage 2(%)': '87.5',\n",
       " 'School budget per pupil': 3947.0,\n",
       " 'Support Category': 'Green'}"
      ]
     },
     "execution_count": 311,
     "metadata": {},
     "output_type": "execute_result"
    }
   ],
   "source": [
    "the_grand_dict['Severn Primary']"
   ]
  },
  {
   "cell_type": "code",
   "execution_count": null,
   "metadata": {},
   "outputs": [],
   "source": []
  },
  {
   "cell_type": "code",
   "execution_count": null,
   "metadata": {},
   "outputs": [],
   "source": []
  },
  {
   "cell_type": "code",
   "execution_count": null,
   "metadata": {},
   "outputs": [],
   "source": []
  }
 ],
 "metadata": {
  "kernelspec": {
   "display_name": "Python 3",
   "language": "python",
   "name": "python3"
  },
  "language_info": {
   "codemirror_mode": {
    "name": "ipython",
    "version": 3
   },
   "file_extension": ".py",
   "mimetype": "text/x-python",
   "name": "python",
   "nbconvert_exporter": "python",
   "pygments_lexer": "ipython3",
   "version": "3.6.4"
  }
 },
 "nbformat": 4,
 "nbformat_minor": 2
}
