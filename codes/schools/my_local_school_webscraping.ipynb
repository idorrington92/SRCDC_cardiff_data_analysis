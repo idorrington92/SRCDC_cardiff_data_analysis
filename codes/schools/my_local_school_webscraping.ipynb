{
 "cells": [
  {
   "cell_type": "markdown",
   "metadata": {},
   "source": [
    "This code amalgamates the summary information from the 'mylocalschool.wales' website into one large dictionary for easy access. "
   ]
  },
  {
   "cell_type": "code",
   "execution_count": 1,
   "metadata": {},
   "outputs": [],
   "source": [
    "import requests\n",
    "from bs4 import BeautifulSoup"
   ]
  },
  {
   "cell_type": "markdown",
   "metadata": {},
   "source": [
    "This is a list of the schools in the local area that we want to focus on."
   ]
  },
  {
   "cell_type": "code",
   "execution_count": 20,
   "metadata": {},
   "outputs": [],
   "source": [
    "list_of_schools = ['Severn Primary','St. Mary\\'s R.C. Primary School','St.Paul\\'s C/W Primary School','Grangetown Primary School','St Patrick\\'s R C School','Ysgol Gynradd Gymraeg Hamadryad','Ninian Park Primary School','Kitchener Primary School','Radnor Primary School','Lansdowne Primary School','Ysgol Treganna','Ysgol Gymraeg Pwll Coch']"
   ]
  },
  {
   "cell_type": "markdown",
   "metadata": {},
   "source": [
    "This function makes a dictionary which associates each school name to the URL of its summary page."
   ]
  },
  {
   "cell_type": "code",
   "execution_count": 21,
   "metadata": {},
   "outputs": [],
   "source": [
    "def make_school_URL_dict(schools):\n",
    "    toppage = requests.get(\"http://mylocalschool.wales.gov.uk/Schools/SchoolSearch?lang=en\")\n",
    "    soup = BeautifulSoup(toppage.content, 'html.parser')\n",
    "    school_links = soup.select(\"a[href*=/School]\")[2:]\n",
    "    schools = [list(school.children)[0] for school in school_links]\n",
    "    school_URLs = [\"http://mylocalschool.wales.gov.uk\" + school['href'] for school in school_links]\n",
    "    schoolURL_dict = {}\n",
    "    for s,school in enumerate(schools):\n",
    "        schoolURL_dict[school] = school_URLs[s]\n",
    "    return schoolURL_dict"
   ]
  },
  {
   "cell_type": "code",
   "execution_count": 22,
   "metadata": {},
   "outputs": [],
   "source": [
    "schoolURL_dict = make_school_URL_dict(list_of_schools)"
   ]
  },
  {
   "cell_type": "markdown",
   "metadata": {},
   "source": [
    "This next function takes the URL of a schools summary page and makes a dictionary listing the stats for that school."
   ]
  },
  {
   "cell_type": "code",
   "execution_count": 42,
   "metadata": {},
   "outputs": [],
   "source": [
    "def make_stat_dict(schoolURL):\n",
    "    school_pages = requests.get(schoolURL)\n",
    "    school_soup = BeautifulSoup(school_pages.content, 'html.parser')\n",
    "    summary = school_soup.find_all('div',id=False, class_=\"summaryBox\")\n",
    "    stat_dict = {}\n",
    "    for i in range(len(summary)):\n",
    "        stat = ''.join(char for char in list(summary[i].children)[1].getText() if char.isalnum() or char=='.')\n",
    "        if stat.isnumeric(): stat=float(stat)\n",
    "        stat_name = (''.join(char for char in list(summary[i].children)[3].getText() if char.isalnum() or char==' ')).strip()\n",
    "        if '%' in list(summary[i].children)[1].getText(): stat_name += \"(%)\"\n",
    "        stat_dict[stat_name] = stat\n",
    "    return stat_dict"
   ]
  },
  {
   "cell_type": "markdown",
   "metadata": {},
   "source": [
    "This dictionary links each school to the summary dictionary for that school."
   ]
  },
  {
   "cell_type": "code",
   "execution_count": 43,
   "metadata": {},
   "outputs": [],
   "source": [
    "the_grand_dict = {}\n",
    "for school in list_of_schools:\n",
    "    the_grand_dict[school] = make_stat_dict(schoolURL_dict[school])"
   ]
  },
  {
   "cell_type": "code",
   "execution_count": 44,
   "metadata": {
    "scrolled": true
   },
   "outputs": [
    {
     "data": {
      "text/plain": [
       "{'Grangetown Primary School': {'Attendance during the year Primary only(%)': '94.2',\n",
       "  'Free school meals FSM  3 year average Primary only(%)': '27.2',\n",
       "  'Number of Pupils 2017': 404.0,\n",
       "  'Pupil Teacher Ratio PTR Primary only': '19.6',\n",
       "  'Pupils achieving the expected outcome in the Foundation Phase areas of learning(%)': '76.3',\n",
       "  'Pupils who have reached the expected level  Core subject indicator Key Stage 2(%)': 80.0,\n",
       "  'School budget per pupil': 3623.0,\n",
       "  'Support Category': 'Yellow'},\n",
       " 'Kitchener Primary School': {'Attendance during the year Primary only(%)': '94.5',\n",
       "  'Average number of minutes per week allocated for curricular PE Primary only': 105.0,\n",
       "  'Free school meals FSM  3 year average Primary only(%)': '29.9',\n",
       "  'Number of Pupils 2017': 486.0,\n",
       "  'Pupil Teacher Ratio PTR Primary only': '20.5',\n",
       "  'Pupils achieving the expected outcome in the Foundation Phase areas of learning(%)': '80.8',\n",
       "  'Pupils who have reached the expected level  Core subject indicator Key Stage 2(%)': '82.1',\n",
       "  'School budget per pupil': 3576.0,\n",
       "  'Support Category': 'Green',\n",
       "  'of pupils in the school who are hooked on sport(%)': 26.0,\n",
       "  'of pupils in the school who enjoy PE lessons a lot(%)': 74.0},\n",
       " 'Lansdowne Primary School': {'Attendance during the year Primary only(%)': '93.1',\n",
       "  'Average number of minutes per week allocated for curricular PE Primary only': 90.0,\n",
       "  'Free school meals FSM  3 year average Primary only(%)': '29.6',\n",
       "  'Number of Pupils 2017': 486.0,\n",
       "  'Pupil Teacher Ratio PTR Primary only': '21.9',\n",
       "  'Pupils achieving the expected outcome in the Foundation Phase areas of learning(%)': 92.0,\n",
       "  'Pupils who have reached the expected level  Core subject indicator Key Stage 2(%)': '85.1',\n",
       "  'School budget per pupil': 3442.0,\n",
       "  'Support Category': 'Green'},\n",
       " 'Ninian Park Primary School': {'Attendance during the year Primary only(%)': '94.1',\n",
       "  'Free school meals FSM  3 year average Primary only(%)': '23.7',\n",
       "  'Number of Pupils 2017': 557.0,\n",
       "  'Pupil Teacher Ratio PTR Primary only': '24.3',\n",
       "  'Pupils achieving the expected outcome in the Foundation Phase areas of learning(%)': 84.0,\n",
       "  'Pupils who have reached the expected level  Core subject indicator Key Stage 2(%)': '92.5',\n",
       "  'School budget per pupil': 3569.0,\n",
       "  'Support Category': 'Green',\n",
       "  'of pupils in the school who are hooked on sport(%)': 32.0,\n",
       "  'of pupils in the school who enjoy PE lessons a lot(%)': 61.0},\n",
       " 'Radnor Primary School': {'Attendance during the year Primary only(%)': '95.6',\n",
       "  'Average number of minutes per week allocated for curricular PE Primary only': 120.0,\n",
       "  'Free school meals FSM  3 year average Primary only(%)': '19.1',\n",
       "  'Number of Pupils 2017': 323.0,\n",
       "  'Pupil Teacher Ratio PTR Primary only': '18.9',\n",
       "  'Pupils achieving the expected outcome in the Foundation Phase areas of learning(%)': '92.5',\n",
       "  'Pupils who have reached the expected level  Core subject indicator Key Stage 2(%)': 100.0,\n",
       "  'School budget per pupil': 3862.0,\n",
       "  'Support Category': 'Green'},\n",
       " 'Severn Primary': {'Attendance during the year Primary only(%)': '93.9',\n",
       "  'Average number of minutes per week allocated for curricular PE Primary only': 90.0,\n",
       "  'Free school meals FSM  3 year average Primary only(%)': 24.0,\n",
       "  'Number of Pupils 2017': 482.0,\n",
       "  'Pupil Teacher Ratio PTR Primary only': '20.9',\n",
       "  'Pupils achieving the expected outcome in the Foundation Phase areas of learning(%)': '85.5',\n",
       "  'Pupils who have reached the expected level  Core subject indicator Key Stage 2(%)': '87.5',\n",
       "  'School budget per pupil': 3947.0,\n",
       "  'Support Category': 'Green'},\n",
       " \"St Patrick's R C School\": {'Attendance during the year Primary only(%)': '94.0',\n",
       "  'Free school meals FSM  3 year average Primary only(%)': '23.2',\n",
       "  'Number of Pupils 2017': 298.0,\n",
       "  'Pupil Teacher Ratio PTR Primary only': '24.4',\n",
       "  'Pupils achieving the expected outcome in the Foundation Phase areas of learning(%)': '95.3',\n",
       "  'Pupils who have reached the expected level  Core subject indicator Key Stage 2(%)': '91.7',\n",
       "  'School budget per pupil': 3548.0,\n",
       "  'Support Category': 'Yellow'},\n",
       " \"St. Mary's R.C. Primary School\": {'Attendance during the year Primary only(%)': '95.7',\n",
       "  'Free school meals FSM  3 year average Primary only(%)': '11.1',\n",
       "  'Number of Pupils 2017': 261.0,\n",
       "  'Pupil Teacher Ratio PTR Primary only': '21.5',\n",
       "  'Pupils achieving the expected outcome in the Foundation Phase areas of learning(%)': 100.0,\n",
       "  'Pupils who have reached the expected level  Core subject indicator Key Stage 2(%)': '92.3',\n",
       "  'School budget per pupil': 3388.0,\n",
       "  'Support Category': 'Yellow'},\n",
       " \"St.Paul's C/W Primary School\": {'Attendance during the year Primary only(%)': '94.7',\n",
       "  'Average number of minutes per week allocated for curricular PE Primary only': 120.0,\n",
       "  'Free school meals FSM  3 year average Primary only(%)': '26.5',\n",
       "  'Number of Pupils 2017': 209.0,\n",
       "  'Pupil Teacher Ratio PTR Primary only': '23.1',\n",
       "  'Pupils achieving the expected outcome in the Foundation Phase areas of learning(%)': '89.7',\n",
       "  'Pupils who have reached the expected level  Core subject indicator Key Stage 2(%)': '92.9',\n",
       "  'School budget per pupil': 3774.0,\n",
       "  'Support Category': 'Yellow',\n",
       "  'of pupils in the school who are hooked on sport(%)': 50.0,\n",
       "  'of pupils in the school who enjoy PE lessons a lot(%)': 74.0},\n",
       " 'Ysgol Gymraeg Pwll Coch': {'Attendance during the year Primary only(%)': '95.8',\n",
       "  'Free school meals FSM  3 year average Primary only(%)': '9.5',\n",
       "  'Number of Pupils 2017': 506.0,\n",
       "  'Pupil Teacher Ratio PTR Primary only': '22.6',\n",
       "  'Pupils achieving the expected outcome in the Foundation Phase areas of learning(%)': '95.2',\n",
       "  'Pupils who have reached the expected level  Core subject indicator Key Stage 2(%)': '98.3',\n",
       "  'School budget per pupil': 3213.0,\n",
       "  'Support Category': 'Yellow'},\n",
       " 'Ysgol Gynradd Gymraeg Hamadryad': {'Number of Pupils 2017': 17.0,\n",
       "  'Pupil Teacher Ratio PTR Primary only': 17.0,\n",
       "  'School budget per pupil': 19436.0,\n",
       "  'Support Category': 'Yellow'},\n",
       " 'Ysgol Treganna': {'Attendance during the year Primary only(%)': '97.0',\n",
       "  'Free school meals FSM  3 year average Primary only(%)': '4.5',\n",
       "  'Number of Pupils 2017': 623.0,\n",
       "  'Pupil Teacher Ratio PTR Primary only': '24.5',\n",
       "  'Pupils achieving the expected outcome in the Foundation Phase areas of learning(%)': '89.9',\n",
       "  'Pupils who have reached the expected level  Core subject indicator Key Stage 2(%)': '91.5',\n",
       "  'School budget per pupil': 3388.0,\n",
       "  'Support Category': 'Green'}}"
      ]
     },
     "execution_count": 44,
     "metadata": {},
     "output_type": "execute_result"
    }
   ],
   "source": [
    "the_grand_dict"
   ]
  },
  {
   "cell_type": "code",
   "execution_count": null,
   "metadata": {},
   "outputs": [],
   "source": []
  },
  {
   "cell_type": "code",
   "execution_count": null,
   "metadata": {},
   "outputs": [],
   "source": []
  },
  {
   "cell_type": "code",
   "execution_count": null,
   "metadata": {},
   "outputs": [],
   "source": []
  }
 ],
 "metadata": {
  "kernelspec": {
   "display_name": "Python 3",
   "language": "python",
   "name": "python3"
  },
  "language_info": {
   "codemirror_mode": {
    "name": "ipython",
    "version": 3
   },
   "file_extension": ".py",
   "mimetype": "text/x-python",
   "name": "python",
   "nbconvert_exporter": "python",
   "pygments_lexer": "ipython3",
   "version": "3.6.4"
  }
 },
 "nbformat": 4,
 "nbformat_minor": 2
}
