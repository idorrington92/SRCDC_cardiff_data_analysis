{
 "cells": [
  {
   "cell_type": "markdown",
   "metadata": {},
   "source": [
    "This code amalgamates the summary information from the 'mylocalschool.wales' website into one large dictionary for easy access. "
   ]
  },
  {
   "cell_type": "code",
   "execution_count": 1,
   "metadata": {},
   "outputs": [],
   "source": [
    "import requests\n",
    "from bs4 import BeautifulSoup\n",
    "import numpy as np"
   ]
  },
  {
   "cell_type": "markdown",
   "metadata": {},
   "source": [
    "This is a list of the schools in the local area that we want to focus on."
   ]
  },
  {
   "cell_type": "code",
   "execution_count": 2,
   "metadata": {},
   "outputs": [],
   "source": [
    "local_schools = ['Severn Primary','St. Mary\\'s R.C. Primary School','St.Paul\\'s C/W Primary School','Grangetown Primary School','St Patrick\\'s R C School','Ysgol Gynradd Gymraeg Hamadryad','Ninian Park Primary School','Kitchener Primary School','Radnor Primary School','Lansdowne Primary School','Ysgol Treganna','Ysgol Gymraeg Pwll Coch']"
   ]
  },
  {
   "cell_type": "markdown",
   "metadata": {},
   "source": [
    "This function makes a dictionary which associates each school name to the URL of its summary page."
   ]
  },
  {
   "cell_type": "code",
   "execution_count": 3,
   "metadata": {},
   "outputs": [],
   "source": [
    "def make_school_URL_dict_from_list(schools):\n",
    "    toppage = requests.get(\"http://mylocalschool.wales.gov.uk/Schools/SchoolSearch?lang=en\")\n",
    "    soup = BeautifulSoup(toppage.content, 'html.parser')\n",
    "    school_links = soup.select(\"a[href*=/School]\")[2:]\n",
    "    schools = [list(school.children)[0] for school in school_links]\n",
    "    school_URLs = [\"http://mylocalschool.wales.gov.uk\" + school['href'] for school in school_links]\n",
    "    schoolURL_dict = {}\n",
    "    for s,school in enumerate(schools):\n",
    "        schoolURL_dict[school] = school_URLs[s]\n",
    "    return schoolURL_dict"
   ]
  },
  {
   "cell_type": "code",
   "execution_count": 4,
   "metadata": {},
   "outputs": [],
   "source": [
    "schoolURL_dict = make_school_URL_dict_from_list(local_schools)"
   ]
  },
  {
   "cell_type": "markdown",
   "metadata": {},
   "source": [
    "This next function takes the URL of a schools summary page and makes a dictionary listing the stats for that school."
   ]
  },
  {
   "cell_type": "code",
   "execution_count": 5,
   "metadata": {},
   "outputs": [],
   "source": [
    "def tofloat(string):\n",
    "    if string[-1] == '%':\n",
    "        string = string[:-1]\n",
    "    elif string == '' or string == '*':\n",
    "        string = np.nan\n",
    "    try:\n",
    "        output = float(string)\n",
    "    except ValueError:\n",
    "        output = string\n",
    "    return output\n",
    "                \n",
    "def make_stat_dict(schoolURL):\n",
    "    school_pages = requests.get(schoolURL)\n",
    "    school_soup = BeautifulSoup(school_pages.content, 'html.parser')\n",
    "    summary = school_soup.find_all('div',id=False, class_=\"summaryBox\")\n",
    "    stat_dict = {}\n",
    "    for i in range(len(summary)):\n",
    "        stat = ''.join(char for char in list(summary[i].children)[1].getText() if char.isalnum() or char=='.')\n",
    "        stat = tofloat(stat)\n",
    "        stat_name = (''.join(char for char in list(summary[i].children)[3].getText() if char.isalnum() or char==' ')).strip()\n",
    "        if '%' in list(summary[i].children)[1].getText(): stat_name += \"(%)\"\n",
    "        stat_dict[stat_name] = stat\n",
    "    return stat_dict"
   ]
  },
  {
   "cell_type": "markdown",
   "metadata": {},
   "source": [
    "This dictionary links each school to the summary dictionary for that school."
   ]
  },
  {
   "cell_type": "code",
   "execution_count": 6,
   "metadata": {},
   "outputs": [],
   "source": [
    "local_school_dict = {}\n",
    "for school in local_schools:\n",
    "    local_school_dict[school] = make_stat_dict(schoolURL_dict[school])"
   ]
  },
  {
   "cell_type": "markdown",
   "metadata": {},
   "source": [
    "Now we use pandas to turn this dictionary into a data frame."
   ]
  },
  {
   "cell_type": "code",
   "execution_count": 7,
   "metadata": {},
   "outputs": [],
   "source": [
    "import pandas as pd"
   ]
  },
  {
   "cell_type": "code",
   "execution_count": 8,
   "metadata": {},
   "outputs": [],
   "source": [
    "local_school_df = pd.DataFrame.from_dict(local_school_dict, orient='index')"
   ]
  },
  {
   "cell_type": "code",
   "execution_count": 9,
   "metadata": {},
   "outputs": [
    {
     "data": {
      "text/html": [
       "<div>\n",
       "<style scoped>\n",
       "    .dataframe tbody tr th:only-of-type {\n",
       "        vertical-align: middle;\n",
       "    }\n",
       "\n",
       "    .dataframe tbody tr th {\n",
       "        vertical-align: top;\n",
       "    }\n",
       "\n",
       "    .dataframe thead th {\n",
       "        text-align: right;\n",
       "    }\n",
       "</style>\n",
       "<table border=\"1\" class=\"dataframe\">\n",
       "  <thead>\n",
       "    <tr style=\"text-align: right;\">\n",
       "      <th></th>\n",
       "      <th>Number of Pupils 2017</th>\n",
       "      <th>Free school meals FSM  3 year average Primary only(%)</th>\n",
       "      <th>Pupil Teacher Ratio PTR Primary only</th>\n",
       "      <th>Attendance during the year Primary only(%)</th>\n",
       "      <th>School budget per pupil</th>\n",
       "      <th>Pupils who have reached the expected level  Core subject indicator Key Stage 2(%)</th>\n",
       "      <th>Support Category</th>\n",
       "      <th>Pupils achieving the expected outcome in the Foundation Phase areas of learning(%)</th>\n",
       "      <th>Average number of minutes per week allocated for curricular PE Primary only</th>\n",
       "      <th>of pupils in the school who enjoy PE lessons a lot(%)</th>\n",
       "      <th>of pupils in the school who are hooked on sport(%)</th>\n",
       "    </tr>\n",
       "  </thead>\n",
       "  <tbody>\n",
       "    <tr>\n",
       "      <th>Grangetown Primary School</th>\n",
       "      <td>404.0</td>\n",
       "      <td>27.2</td>\n",
       "      <td>19.6</td>\n",
       "      <td>94.2</td>\n",
       "      <td>3623.0</td>\n",
       "      <td>80.0</td>\n",
       "      <td>Yellow</td>\n",
       "      <td>76.3</td>\n",
       "      <td>NaN</td>\n",
       "      <td>NaN</td>\n",
       "      <td>NaN</td>\n",
       "    </tr>\n",
       "    <tr>\n",
       "      <th>Kitchener Primary School</th>\n",
       "      <td>486.0</td>\n",
       "      <td>29.9</td>\n",
       "      <td>20.5</td>\n",
       "      <td>94.5</td>\n",
       "      <td>3576.0</td>\n",
       "      <td>82.1</td>\n",
       "      <td>Green</td>\n",
       "      <td>80.8</td>\n",
       "      <td>105.0</td>\n",
       "      <td>74.0</td>\n",
       "      <td>26.0</td>\n",
       "    </tr>\n",
       "    <tr>\n",
       "      <th>Lansdowne Primary School</th>\n",
       "      <td>486.0</td>\n",
       "      <td>29.6</td>\n",
       "      <td>21.9</td>\n",
       "      <td>93.1</td>\n",
       "      <td>3442.0</td>\n",
       "      <td>85.1</td>\n",
       "      <td>Green</td>\n",
       "      <td>92.0</td>\n",
       "      <td>90.0</td>\n",
       "      <td>NaN</td>\n",
       "      <td>NaN</td>\n",
       "    </tr>\n",
       "    <tr>\n",
       "      <th>Ninian Park Primary School</th>\n",
       "      <td>557.0</td>\n",
       "      <td>23.7</td>\n",
       "      <td>24.3</td>\n",
       "      <td>94.1</td>\n",
       "      <td>3569.0</td>\n",
       "      <td>92.5</td>\n",
       "      <td>Green</td>\n",
       "      <td>84.0</td>\n",
       "      <td>NaN</td>\n",
       "      <td>61.0</td>\n",
       "      <td>32.0</td>\n",
       "    </tr>\n",
       "    <tr>\n",
       "      <th>Radnor Primary School</th>\n",
       "      <td>323.0</td>\n",
       "      <td>19.1</td>\n",
       "      <td>18.9</td>\n",
       "      <td>95.6</td>\n",
       "      <td>3862.0</td>\n",
       "      <td>100.0</td>\n",
       "      <td>Green</td>\n",
       "      <td>92.5</td>\n",
       "      <td>120.0</td>\n",
       "      <td>NaN</td>\n",
       "      <td>NaN</td>\n",
       "    </tr>\n",
       "    <tr>\n",
       "      <th>Severn Primary</th>\n",
       "      <td>482.0</td>\n",
       "      <td>24.0</td>\n",
       "      <td>20.9</td>\n",
       "      <td>93.9</td>\n",
       "      <td>3947.0</td>\n",
       "      <td>87.5</td>\n",
       "      <td>Green</td>\n",
       "      <td>85.5</td>\n",
       "      <td>90.0</td>\n",
       "      <td>NaN</td>\n",
       "      <td>NaN</td>\n",
       "    </tr>\n",
       "    <tr>\n",
       "      <th>St Patrick's R C School</th>\n",
       "      <td>298.0</td>\n",
       "      <td>23.2</td>\n",
       "      <td>24.4</td>\n",
       "      <td>94.0</td>\n",
       "      <td>3548.0</td>\n",
       "      <td>91.7</td>\n",
       "      <td>Yellow</td>\n",
       "      <td>95.3</td>\n",
       "      <td>NaN</td>\n",
       "      <td>NaN</td>\n",
       "      <td>NaN</td>\n",
       "    </tr>\n",
       "    <tr>\n",
       "      <th>St. Mary's R.C. Primary School</th>\n",
       "      <td>261.0</td>\n",
       "      <td>11.1</td>\n",
       "      <td>21.5</td>\n",
       "      <td>95.7</td>\n",
       "      <td>3388.0</td>\n",
       "      <td>92.3</td>\n",
       "      <td>Yellow</td>\n",
       "      <td>100.0</td>\n",
       "      <td>NaN</td>\n",
       "      <td>NaN</td>\n",
       "      <td>NaN</td>\n",
       "    </tr>\n",
       "    <tr>\n",
       "      <th>St.Paul's C/W Primary School</th>\n",
       "      <td>209.0</td>\n",
       "      <td>26.5</td>\n",
       "      <td>23.1</td>\n",
       "      <td>94.7</td>\n",
       "      <td>3774.0</td>\n",
       "      <td>92.9</td>\n",
       "      <td>Yellow</td>\n",
       "      <td>89.7</td>\n",
       "      <td>120.0</td>\n",
       "      <td>74.0</td>\n",
       "      <td>50.0</td>\n",
       "    </tr>\n",
       "    <tr>\n",
       "      <th>Ysgol Gymraeg Pwll Coch</th>\n",
       "      <td>506.0</td>\n",
       "      <td>9.5</td>\n",
       "      <td>22.6</td>\n",
       "      <td>95.8</td>\n",
       "      <td>3213.0</td>\n",
       "      <td>98.3</td>\n",
       "      <td>Yellow</td>\n",
       "      <td>95.2</td>\n",
       "      <td>NaN</td>\n",
       "      <td>NaN</td>\n",
       "      <td>NaN</td>\n",
       "    </tr>\n",
       "    <tr>\n",
       "      <th>Ysgol Gynradd Gymraeg Hamadryad</th>\n",
       "      <td>17.0</td>\n",
       "      <td>NaN</td>\n",
       "      <td>17.0</td>\n",
       "      <td>NaN</td>\n",
       "      <td>19436.0</td>\n",
       "      <td>NaN</td>\n",
       "      <td>Yellow</td>\n",
       "      <td>NaN</td>\n",
       "      <td>NaN</td>\n",
       "      <td>NaN</td>\n",
       "      <td>NaN</td>\n",
       "    </tr>\n",
       "    <tr>\n",
       "      <th>Ysgol Treganna</th>\n",
       "      <td>623.0</td>\n",
       "      <td>4.5</td>\n",
       "      <td>24.5</td>\n",
       "      <td>97.0</td>\n",
       "      <td>3388.0</td>\n",
       "      <td>91.5</td>\n",
       "      <td>Green</td>\n",
       "      <td>89.9</td>\n",
       "      <td>NaN</td>\n",
       "      <td>NaN</td>\n",
       "      <td>NaN</td>\n",
       "    </tr>\n",
       "  </tbody>\n",
       "</table>\n",
       "</div>"
      ],
      "text/plain": [
       "                                 Number of Pupils 2017  \\\n",
       "Grangetown Primary School                        404.0   \n",
       "Kitchener Primary School                         486.0   \n",
       "Lansdowne Primary School                         486.0   \n",
       "Ninian Park Primary School                       557.0   \n",
       "Radnor Primary School                            323.0   \n",
       "Severn Primary                                   482.0   \n",
       "St Patrick's R C School                          298.0   \n",
       "St. Mary's R.C. Primary School                   261.0   \n",
       "St.Paul's C/W Primary School                     209.0   \n",
       "Ysgol Gymraeg Pwll Coch                          506.0   \n",
       "Ysgol Gynradd Gymraeg Hamadryad                   17.0   \n",
       "Ysgol Treganna                                   623.0   \n",
       "\n",
       "                                 Free school meals FSM  3 year average Primary only(%)  \\\n",
       "Grangetown Primary School                                                     27.2       \n",
       "Kitchener Primary School                                                      29.9       \n",
       "Lansdowne Primary School                                                      29.6       \n",
       "Ninian Park Primary School                                                    23.7       \n",
       "Radnor Primary School                                                         19.1       \n",
       "Severn Primary                                                                24.0       \n",
       "St Patrick's R C School                                                       23.2       \n",
       "St. Mary's R.C. Primary School                                                11.1       \n",
       "St.Paul's C/W Primary School                                                  26.5       \n",
       "Ysgol Gymraeg Pwll Coch                                                        9.5       \n",
       "Ysgol Gynradd Gymraeg Hamadryad                                                NaN       \n",
       "Ysgol Treganna                                                                 4.5       \n",
       "\n",
       "                                 Pupil Teacher Ratio PTR Primary only  \\\n",
       "Grangetown Primary School                                        19.6   \n",
       "Kitchener Primary School                                         20.5   \n",
       "Lansdowne Primary School                                         21.9   \n",
       "Ninian Park Primary School                                       24.3   \n",
       "Radnor Primary School                                            18.9   \n",
       "Severn Primary                                                   20.9   \n",
       "St Patrick's R C School                                          24.4   \n",
       "St. Mary's R.C. Primary School                                   21.5   \n",
       "St.Paul's C/W Primary School                                     23.1   \n",
       "Ysgol Gymraeg Pwll Coch                                          22.6   \n",
       "Ysgol Gynradd Gymraeg Hamadryad                                  17.0   \n",
       "Ysgol Treganna                                                   24.5   \n",
       "\n",
       "                                 Attendance during the year Primary only(%)  \\\n",
       "Grangetown Primary School                                              94.2   \n",
       "Kitchener Primary School                                               94.5   \n",
       "Lansdowne Primary School                                               93.1   \n",
       "Ninian Park Primary School                                             94.1   \n",
       "Radnor Primary School                                                  95.6   \n",
       "Severn Primary                                                         93.9   \n",
       "St Patrick's R C School                                                94.0   \n",
       "St. Mary's R.C. Primary School                                         95.7   \n",
       "St.Paul's C/W Primary School                                           94.7   \n",
       "Ysgol Gymraeg Pwll Coch                                                95.8   \n",
       "Ysgol Gynradd Gymraeg Hamadryad                                         NaN   \n",
       "Ysgol Treganna                                                         97.0   \n",
       "\n",
       "                                 School budget per pupil  \\\n",
       "Grangetown Primary School                         3623.0   \n",
       "Kitchener Primary School                          3576.0   \n",
       "Lansdowne Primary School                          3442.0   \n",
       "Ninian Park Primary School                        3569.0   \n",
       "Radnor Primary School                             3862.0   \n",
       "Severn Primary                                    3947.0   \n",
       "St Patrick's R C School                           3548.0   \n",
       "St. Mary's R.C. Primary School                    3388.0   \n",
       "St.Paul's C/W Primary School                      3774.0   \n",
       "Ysgol Gymraeg Pwll Coch                           3213.0   \n",
       "Ysgol Gynradd Gymraeg Hamadryad                  19436.0   \n",
       "Ysgol Treganna                                    3388.0   \n",
       "\n",
       "                                 Pupils who have reached the expected level  Core subject indicator Key Stage 2(%)  \\\n",
       "Grangetown Primary School                                                     80.0                                   \n",
       "Kitchener Primary School                                                      82.1                                   \n",
       "Lansdowne Primary School                                                      85.1                                   \n",
       "Ninian Park Primary School                                                    92.5                                   \n",
       "Radnor Primary School                                                        100.0                                   \n",
       "Severn Primary                                                                87.5                                   \n",
       "St Patrick's R C School                                                       91.7                                   \n",
       "St. Mary's R.C. Primary School                                                92.3                                   \n",
       "St.Paul's C/W Primary School                                                  92.9                                   \n",
       "Ysgol Gymraeg Pwll Coch                                                       98.3                                   \n",
       "Ysgol Gynradd Gymraeg Hamadryad                                                NaN                                   \n",
       "Ysgol Treganna                                                                91.5                                   \n",
       "\n",
       "                                Support Category  \\\n",
       "Grangetown Primary School                 Yellow   \n",
       "Kitchener Primary School                   Green   \n",
       "Lansdowne Primary School                   Green   \n",
       "Ninian Park Primary School                 Green   \n",
       "Radnor Primary School                      Green   \n",
       "Severn Primary                             Green   \n",
       "St Patrick's R C School                   Yellow   \n",
       "St. Mary's R.C. Primary School            Yellow   \n",
       "St.Paul's C/W Primary School              Yellow   \n",
       "Ysgol Gymraeg Pwll Coch                   Yellow   \n",
       "Ysgol Gynradd Gymraeg Hamadryad           Yellow   \n",
       "Ysgol Treganna                             Green   \n",
       "\n",
       "                                 Pupils achieving the expected outcome in the Foundation Phase areas of learning(%)  \\\n",
       "Grangetown Primary School                                                     76.3                                    \n",
       "Kitchener Primary School                                                      80.8                                    \n",
       "Lansdowne Primary School                                                      92.0                                    \n",
       "Ninian Park Primary School                                                    84.0                                    \n",
       "Radnor Primary School                                                         92.5                                    \n",
       "Severn Primary                                                                85.5                                    \n",
       "St Patrick's R C School                                                       95.3                                    \n",
       "St. Mary's R.C. Primary School                                               100.0                                    \n",
       "St.Paul's C/W Primary School                                                  89.7                                    \n",
       "Ysgol Gymraeg Pwll Coch                                                       95.2                                    \n",
       "Ysgol Gynradd Gymraeg Hamadryad                                                NaN                                    \n",
       "Ysgol Treganna                                                                89.9                                    \n",
       "\n",
       "                                 Average number of minutes per week allocated for curricular PE Primary only  \\\n",
       "Grangetown Primary School                                                      NaN                             \n",
       "Kitchener Primary School                                                     105.0                             \n",
       "Lansdowne Primary School                                                      90.0                             \n",
       "Ninian Park Primary School                                                     NaN                             \n",
       "Radnor Primary School                                                        120.0                             \n",
       "Severn Primary                                                                90.0                             \n",
       "St Patrick's R C School                                                        NaN                             \n",
       "St. Mary's R.C. Primary School                                                 NaN                             \n",
       "St.Paul's C/W Primary School                                                 120.0                             \n",
       "Ysgol Gymraeg Pwll Coch                                                        NaN                             \n",
       "Ysgol Gynradd Gymraeg Hamadryad                                                NaN                             \n",
       "Ysgol Treganna                                                                 NaN                             \n",
       "\n",
       "                                 of pupils in the school who enjoy PE lessons a lot(%)  \\\n",
       "Grangetown Primary School                                                      NaN       \n",
       "Kitchener Primary School                                                      74.0       \n",
       "Lansdowne Primary School                                                       NaN       \n",
       "Ninian Park Primary School                                                    61.0       \n",
       "Radnor Primary School                                                          NaN       \n",
       "Severn Primary                                                                 NaN       \n",
       "St Patrick's R C School                                                        NaN       \n",
       "St. Mary's R.C. Primary School                                                 NaN       \n",
       "St.Paul's C/W Primary School                                                  74.0       \n",
       "Ysgol Gymraeg Pwll Coch                                                        NaN       \n",
       "Ysgol Gynradd Gymraeg Hamadryad                                                NaN       \n",
       "Ysgol Treganna                                                                 NaN       \n",
       "\n",
       "                                 of pupils in the school who are hooked on sport(%)  \n",
       "Grangetown Primary School                                                      NaN   \n",
       "Kitchener Primary School                                                      26.0   \n",
       "Lansdowne Primary School                                                       NaN   \n",
       "Ninian Park Primary School                                                    32.0   \n",
       "Radnor Primary School                                                          NaN   \n",
       "Severn Primary                                                                 NaN   \n",
       "St Patrick's R C School                                                        NaN   \n",
       "St. Mary's R.C. Primary School                                                 NaN   \n",
       "St.Paul's C/W Primary School                                                  50.0   \n",
       "Ysgol Gymraeg Pwll Coch                                                        NaN   \n",
       "Ysgol Gynradd Gymraeg Hamadryad                                                NaN   \n",
       "Ysgol Treganna                                                                 NaN   "
      ]
     },
     "execution_count": 9,
     "metadata": {},
     "output_type": "execute_result"
    }
   ],
   "source": [
    "local_school_df"
   ]
  },
  {
   "cell_type": "markdown",
   "metadata": {},
   "source": [
    "Here we show a summary of the data."
   ]
  },
  {
   "cell_type": "code",
   "execution_count": 10,
   "metadata": {
    "scrolled": true
   },
   "outputs": [
    {
     "data": {
      "text/html": [
       "<div>\n",
       "<style scoped>\n",
       "    .dataframe tbody tr th:only-of-type {\n",
       "        vertical-align: middle;\n",
       "    }\n",
       "\n",
       "    .dataframe tbody tr th {\n",
       "        vertical-align: top;\n",
       "    }\n",
       "\n",
       "    .dataframe thead th {\n",
       "        text-align: right;\n",
       "    }\n",
       "</style>\n",
       "<table border=\"1\" class=\"dataframe\">\n",
       "  <thead>\n",
       "    <tr style=\"text-align: right;\">\n",
       "      <th></th>\n",
       "      <th>Number of Pupils 2017</th>\n",
       "      <th>Free school meals FSM  3 year average Primary only(%)</th>\n",
       "      <th>Pupil Teacher Ratio PTR Primary only</th>\n",
       "      <th>Attendance during the year Primary only(%)</th>\n",
       "      <th>School budget per pupil</th>\n",
       "      <th>Pupils who have reached the expected level  Core subject indicator Key Stage 2(%)</th>\n",
       "      <th>Pupils achieving the expected outcome in the Foundation Phase areas of learning(%)</th>\n",
       "      <th>Average number of minutes per week allocated for curricular PE Primary only</th>\n",
       "      <th>of pupils in the school who enjoy PE lessons a lot(%)</th>\n",
       "      <th>of pupils in the school who are hooked on sport(%)</th>\n",
       "    </tr>\n",
       "  </thead>\n",
       "  <tbody>\n",
       "    <tr>\n",
       "      <th>count</th>\n",
       "      <td>12.000000</td>\n",
       "      <td>11.000000</td>\n",
       "      <td>12.000000</td>\n",
       "      <td>11.000000</td>\n",
       "      <td>12.000000</td>\n",
       "      <td>11.000000</td>\n",
       "      <td>11.000000</td>\n",
       "      <td>5.0</td>\n",
       "      <td>3.000000</td>\n",
       "      <td>3.000000</td>\n",
       "    </tr>\n",
       "    <tr>\n",
       "      <th>mean</th>\n",
       "      <td>387.666667</td>\n",
       "      <td>20.754545</td>\n",
       "      <td>21.600000</td>\n",
       "      <td>94.781818</td>\n",
       "      <td>4897.166667</td>\n",
       "      <td>90.354545</td>\n",
       "      <td>89.200000</td>\n",
       "      <td>105.0</td>\n",
       "      <td>69.666667</td>\n",
       "      <td>36.000000</td>\n",
       "    </tr>\n",
       "    <tr>\n",
       "      <th>std</th>\n",
       "      <td>171.661577</td>\n",
       "      <td>8.651285</td>\n",
       "      <td>2.355651</td>\n",
       "      <td>1.121444</td>\n",
       "      <td>4583.328680</td>\n",
       "      <td>6.206990</td>\n",
       "      <td>6.978682</td>\n",
       "      <td>15.0</td>\n",
       "      <td>7.505553</td>\n",
       "      <td>12.489996</td>\n",
       "    </tr>\n",
       "    <tr>\n",
       "      <th>min</th>\n",
       "      <td>17.000000</td>\n",
       "      <td>4.500000</td>\n",
       "      <td>17.000000</td>\n",
       "      <td>93.100000</td>\n",
       "      <td>3213.000000</td>\n",
       "      <td>80.000000</td>\n",
       "      <td>76.300000</td>\n",
       "      <td>90.0</td>\n",
       "      <td>61.000000</td>\n",
       "      <td>26.000000</td>\n",
       "    </tr>\n",
       "    <tr>\n",
       "      <th>25%</th>\n",
       "      <td>288.750000</td>\n",
       "      <td>15.100000</td>\n",
       "      <td>20.275000</td>\n",
       "      <td>94.050000</td>\n",
       "      <td>3428.500000</td>\n",
       "      <td>86.300000</td>\n",
       "      <td>84.750000</td>\n",
       "      <td>90.0</td>\n",
       "      <td>67.500000</td>\n",
       "      <td>29.000000</td>\n",
       "    </tr>\n",
       "    <tr>\n",
       "      <th>50%</th>\n",
       "      <td>443.000000</td>\n",
       "      <td>23.700000</td>\n",
       "      <td>21.700000</td>\n",
       "      <td>94.500000</td>\n",
       "      <td>3572.500000</td>\n",
       "      <td>91.700000</td>\n",
       "      <td>89.900000</td>\n",
       "      <td>105.0</td>\n",
       "      <td>74.000000</td>\n",
       "      <td>32.000000</td>\n",
       "    </tr>\n",
       "    <tr>\n",
       "      <th>75%</th>\n",
       "      <td>491.000000</td>\n",
       "      <td>26.850000</td>\n",
       "      <td>23.400000</td>\n",
       "      <td>95.650000</td>\n",
       "      <td>3796.000000</td>\n",
       "      <td>92.700000</td>\n",
       "      <td>93.850000</td>\n",
       "      <td>120.0</td>\n",
       "      <td>74.000000</td>\n",
       "      <td>41.000000</td>\n",
       "    </tr>\n",
       "    <tr>\n",
       "      <th>max</th>\n",
       "      <td>623.000000</td>\n",
       "      <td>29.900000</td>\n",
       "      <td>24.500000</td>\n",
       "      <td>97.000000</td>\n",
       "      <td>19436.000000</td>\n",
       "      <td>100.000000</td>\n",
       "      <td>100.000000</td>\n",
       "      <td>120.0</td>\n",
       "      <td>74.000000</td>\n",
       "      <td>50.000000</td>\n",
       "    </tr>\n",
       "  </tbody>\n",
       "</table>\n",
       "</div>"
      ],
      "text/plain": [
       "       Number of Pupils 2017  \\\n",
       "count              12.000000   \n",
       "mean              387.666667   \n",
       "std               171.661577   \n",
       "min                17.000000   \n",
       "25%               288.750000   \n",
       "50%               443.000000   \n",
       "75%               491.000000   \n",
       "max               623.000000   \n",
       "\n",
       "       Free school meals FSM  3 year average Primary only(%)  \\\n",
       "count                                          11.000000       \n",
       "mean                                           20.754545       \n",
       "std                                             8.651285       \n",
       "min                                             4.500000       \n",
       "25%                                            15.100000       \n",
       "50%                                            23.700000       \n",
       "75%                                            26.850000       \n",
       "max                                            29.900000       \n",
       "\n",
       "       Pupil Teacher Ratio PTR Primary only  \\\n",
       "count                             12.000000   \n",
       "mean                              21.600000   \n",
       "std                                2.355651   \n",
       "min                               17.000000   \n",
       "25%                               20.275000   \n",
       "50%                               21.700000   \n",
       "75%                               23.400000   \n",
       "max                               24.500000   \n",
       "\n",
       "       Attendance during the year Primary only(%)  School budget per pupil  \\\n",
       "count                                   11.000000                12.000000   \n",
       "mean                                    94.781818              4897.166667   \n",
       "std                                      1.121444              4583.328680   \n",
       "min                                     93.100000              3213.000000   \n",
       "25%                                     94.050000              3428.500000   \n",
       "50%                                     94.500000              3572.500000   \n",
       "75%                                     95.650000              3796.000000   \n",
       "max                                     97.000000             19436.000000   \n",
       "\n",
       "       Pupils who have reached the expected level  Core subject indicator Key Stage 2(%)  \\\n",
       "count                                          11.000000                                   \n",
       "mean                                           90.354545                                   \n",
       "std                                             6.206990                                   \n",
       "min                                            80.000000                                   \n",
       "25%                                            86.300000                                   \n",
       "50%                                            91.700000                                   \n",
       "75%                                            92.700000                                   \n",
       "max                                           100.000000                                   \n",
       "\n",
       "       Pupils achieving the expected outcome in the Foundation Phase areas of learning(%)  \\\n",
       "count                                          11.000000                                    \n",
       "mean                                           89.200000                                    \n",
       "std                                             6.978682                                    \n",
       "min                                            76.300000                                    \n",
       "25%                                            84.750000                                    \n",
       "50%                                            89.900000                                    \n",
       "75%                                            93.850000                                    \n",
       "max                                           100.000000                                    \n",
       "\n",
       "       Average number of minutes per week allocated for curricular PE Primary only  \\\n",
       "count                                                5.0                             \n",
       "mean                                               105.0                             \n",
       "std                                                 15.0                             \n",
       "min                                                 90.0                             \n",
       "25%                                                 90.0                             \n",
       "50%                                                105.0                             \n",
       "75%                                                120.0                             \n",
       "max                                                120.0                             \n",
       "\n",
       "       of pupils in the school who enjoy PE lessons a lot(%)  \\\n",
       "count                                           3.000000       \n",
       "mean                                           69.666667       \n",
       "std                                             7.505553       \n",
       "min                                            61.000000       \n",
       "25%                                            67.500000       \n",
       "50%                                            74.000000       \n",
       "75%                                            74.000000       \n",
       "max                                            74.000000       \n",
       "\n",
       "       of pupils in the school who are hooked on sport(%)  \n",
       "count                                           3.000000   \n",
       "mean                                           36.000000   \n",
       "std                                            12.489996   \n",
       "min                                            26.000000   \n",
       "25%                                            29.000000   \n",
       "50%                                            32.000000   \n",
       "75%                                            41.000000   \n",
       "max                                            50.000000   "
      ]
     },
     "execution_count": 10,
     "metadata": {},
     "output_type": "execute_result"
    }
   ],
   "source": [
    "local_school_df.describe()"
   ]
  },
  {
   "cell_type": "markdown",
   "metadata": {},
   "source": [
    "The total number of primary school students in the area is:"
   ]
  },
  {
   "cell_type": "code",
   "execution_count": 11,
   "metadata": {},
   "outputs": [
    {
     "name": "stdout",
     "output_type": "stream",
     "text": [
      "4652.0\n"
     ]
    }
   ],
   "source": [
    "local_num_students = sum(local_school_df['Number of Pupils 2017'])\n",
    "print(local_num_students)"
   ]
  },
  {
   "cell_type": "markdown",
   "metadata": {},
   "source": [
    "Here we use the number of primary school students and the percentage on free school meals to estimate the total number of children in the area who are on free school meals."
   ]
  },
  {
   "cell_type": "code",
   "execution_count": 12,
   "metadata": {},
   "outputs": [
    {
     "name": "stdout",
     "output_type": "stream",
     "text": [
      "938.0369999999999\n"
     ]
    }
   ],
   "source": [
    "local_fsm_students = sum((pd.to_numeric(local_school_df['Free school meals FSM  3 year average Primary only(%)'])/100 \\\n",
    "                                                  * local_school_df['Number of Pupils 2017']).dropna())\n",
    "print(local_fsm_students)"
   ]
  },
  {
   "cell_type": "markdown",
   "metadata": {},
   "source": [
    "The percentage of primary school students in the area on free school meals is:"
   ]
  },
  {
   "cell_type": "code",
   "execution_count": 13,
   "metadata": {},
   "outputs": [
    {
     "data": {
      "text/plain": [
       "20.164165950128975"
      ]
     },
     "execution_count": 13,
     "metadata": {},
     "output_type": "execute_result"
    }
   ],
   "source": [
    "local_fsm_students/local_num_students * 100"
   ]
  },
  {
   "cell_type": "markdown",
   "metadata": {},
   "source": [
    "We will now compare the local school statistics to the whole of Cardiff. This next function makes a list of every school in a given district (in this case we are interested in Cardiff), together with their URLs."
   ]
  },
  {
   "cell_type": "code",
   "execution_count": 14,
   "metadata": {},
   "outputs": [],
   "source": [
    "def make_district_school_URLdict(district): \n",
    "    toppage = requests.get(\"http://mylocalschool.wales.gov.uk/Schools/SchoolSearch?lang=en\")\n",
    "    soup = BeautifulSoup(toppage.content, 'html.parser')\n",
    "    url_ref = [list(soup.find_all(\"option\"))[-1]['value'] for i in range(len(list(soup.select('option')))) \\\n",
    "                                            if list(soup.find_all(\"option\")[i])[0].strip() == district][0]\n",
    "    school_url_string = \"a[href*=/School/\" + url_ref + \"]\"\n",
    "    school_links = soup.select(school_url_string)\n",
    "    schools = [list(school.children)[0] for school in school_links]\n",
    "    school_URLs = [\"http://mylocalschool.wales.gov.uk\" + school['href'] for school in school_links]\n",
    "    schoolURL_dict = {}\n",
    "    for s,school in enumerate(schools):\n",
    "        schoolURL_dict[school] = school_URLs[s]\n",
    "    return schoolURL_dict\n"
   ]
  },
  {
   "cell_type": "markdown",
   "metadata": {},
   "source": [
    "This next function searches for schools of a certain type (e.g. primary) in a given district and returns a dictionary of those schools with their URL."
   ]
  },
  {
   "cell_type": "code",
   "execution_count": 15,
   "metadata": {},
   "outputs": [],
   "source": [
    "def make_district_school_URLdict_by_type(district,schools=False):\n",
    "    school_URLs = make_district_school_URLdict(district)\n",
    "    schools_URLdict = {}\n",
    "    for school in school_URLs.keys():\n",
    "        school_pages = requests.get(school_URLs[school])\n",
    "        school_soup = BeautifulSoup(school_pages.content, 'html.parser')\n",
    "        school_type = list(school_soup.select(\"div[class=schDetailsText]\")[1].children)[0].strip()\n",
    "        if 'Primary' in schools:\n",
    "            if ('Infants' or 'Juniors') in school_type:\n",
    "                schools_URLdict[school] = school_URLs[school]\n",
    "        if 'Secondary' in schools:\n",
    "            if 'Secondary' in school_type:\n",
    "                schools_URLdict[school] = school_URLs[school]         \n",
    "    return schools_URLdict"
   ]
  },
  {
   "cell_type": "code",
   "execution_count": 16,
   "metadata": {
    "scrolled": false
   },
   "outputs": [],
   "source": [
    "primary_school_URLs = make_district_school_URLdict_by_type('Cardiff',schools=['Primary'])"
   ]
  },
  {
   "cell_type": "markdown",
   "metadata": {},
   "source": [
    "We then make a dictionary linking each primary school in Cardiff to its summary information."
   ]
  },
  {
   "cell_type": "code",
   "execution_count": 17,
   "metadata": {},
   "outputs": [],
   "source": [
    "cardiff_primary_school_dict = {}\n",
    "for school in primary_school_URLs.keys():\n",
    "    cardiff_primary_school_dict[school] = make_stat_dict(primary_school_URLs[school])"
   ]
  },
  {
   "cell_type": "markdown",
   "metadata": {},
   "source": [
    "We then turn this dictionary into a dataframe."
   ]
  },
  {
   "cell_type": "code",
   "execution_count": 18,
   "metadata": {
    "scrolled": false
   },
   "outputs": [],
   "source": [
    "cardiff_primary_school_df = pd.DataFrame.from_dict(cardiff_primary_school_dict, orient='index')"
   ]
  },
  {
   "cell_type": "markdown",
   "metadata": {},
   "source": [
    "Calculate the number of primary school students in Cardiff."
   ]
  },
  {
   "cell_type": "code",
   "execution_count": 19,
   "metadata": {},
   "outputs": [
    {
     "name": "stdout",
     "output_type": "stream",
     "text": [
      "33469.0\n"
     ]
    }
   ],
   "source": [
    "cardiff_num_students = sum(cardiff_primary_school_df['Number of Pupils 2017'])\n",
    "print(cardiff_num_students)"
   ]
  },
  {
   "cell_type": "markdown",
   "metadata": {},
   "source": [
    "Calculate the number of primary school students in Cardiff on FSM."
   ]
  },
  {
   "cell_type": "code",
   "execution_count": 20,
   "metadata": {},
   "outputs": [
    {
     "name": "stdout",
     "output_type": "stream",
     "text": [
      "7513.486999999998\n"
     ]
    }
   ],
   "source": [
    "cardiff_fsm_students = sum((pd.to_numeric(cardiff_primary_school_df['Free school meals FSM  3 year average Primary only(%)'])/100 \\\n",
    "                                                  * cardiff_primary_school_df['Number of Pupils 2017']).dropna())\n",
    "print(cardiff_fsm_students)"
   ]
  },
  {
   "cell_type": "markdown",
   "metadata": {},
   "source": [
    "Calculate the percentage of primary school students in Cardiff who are on FSM."
   ]
  },
  {
   "cell_type": "code",
   "execution_count": 21,
   "metadata": {},
   "outputs": [
    {
     "data": {
      "text/plain": [
       "22.44909319071379"
      ]
     },
     "execution_count": 21,
     "metadata": {},
     "output_type": "execute_result"
    }
   ],
   "source": [
    "cardiff_fsm_students/cardiff_num_students *100"
   ]
  },
  {
   "cell_type": "markdown",
   "metadata": {},
   "source": [
    "From this we can see that the local schools actually have fewer primary school children on FSM than the average for Cardiff. "
   ]
  },
  {
   "cell_type": "markdown",
   "metadata": {},
   "source": [
    "The my local schools website has many other tables we can study to get a more detailed picture of the schools than the summary information we have looked at so far. The function below takes the URL for the schools page and the tableid for the table you want (which you have to get by looking at the source code for the website) and returns the data from that table in a pandas data frame."
   ]
  },
  {
   "cell_type": "code",
   "execution_count": 22,
   "metadata": {},
   "outputs": [],
   "source": [
    "def load_table_into_dataFrame(schoolURL,tableid):\n",
    "    school_pages = requests.get(schoolURL)\n",
    "    school_soup = BeautifulSoup(school_pages.content, 'html.parser')\n",
    "    table = school_soup.find_all('table', id=tableid)\n",
    "    if table == []:\n",
    "        return []\n",
    "    columns = [int(table[0].find_all('th')[i].getText().strip()) for i in range(1,len(table[0].find_all('th')))]\n",
    "    rows = [table[0].find_all('td')[i].getText().strip() \\\n",
    "            for i in range(len(table[0].find_all('td'))) if i%(len(columns)+1)==0]\n",
    "    table_entries_list = [table[0].find_all('td')[i].getText().strip()\\\n",
    "                      for i in range(len(table[0].find_all('td'))) if i%(len(columns)+1)!=0]\n",
    "    table_entries = {}\n",
    "    for i,row in enumerate(rows):\n",
    "        table_entries[row]={}\n",
    "        for j,column in enumerate(columns):\n",
    "            table_entries[row][column] = tofloat(table_entries_list[i*len(columns)+j])\n",
    "    return pd.DataFrame.from_dict(table_entries,orient='index') "
   ]
  },
  {
   "cell_type": "markdown",
   "metadata": {},
   "source": [
    "Below are the tableids for the tables of special educational need (SEN) and English as an additional language (EAL). For information on what these statistics mean, look at the my local schools website."
   ]
  },
  {
   "cell_type": "code",
   "execution_count": 23,
   "metadata": {},
   "outputs": [],
   "source": [
    "sen_table_id = 'atbl239'\n",
    "eal_table_id = 'atbl240'"
   ]
  },
  {
   "cell_type": "markdown",
   "metadata": {},
   "source": [
    "We now make a dictionary linking each school to its SEN table."
   ]
  },
  {
   "cell_type": "code",
   "execution_count": 24,
   "metadata": {},
   "outputs": [],
   "source": [
    "sen_dict = {}\n",
    "for school in primary_school_URLs.keys():\n",
    "    sen_dict[school] = load_table_into_dataFrame(primary_school_URLs[school],sen_table_id)\n",
    "    if not len(sen_dict[school]):\n",
    "        del sen_dict[school]"
   ]
  },
  {
   "cell_type": "markdown",
   "metadata": {},
   "source": [
    "Lets focus on the school action statistic. Here we make data frames for all primary schools in Cardiff and from this make another data frame with just the local schools."
   ]
  },
  {
   "cell_type": "code",
   "execution_count": 25,
   "metadata": {
    "scrolled": true
   },
   "outputs": [
    {
     "name": "stderr",
     "output_type": "stream",
     "text": [
      "/anaconda3/lib/python3.6/site-packages/ipykernel_launcher.py:5: FutureWarning: \n",
      "Passing list-likes to .loc or [] with any missing label will raise\n",
      "KeyError in the future, you can use .reindex() as an alternative.\n",
      "\n",
      "See the documentation here:\n",
      "http://pandas.pydata.org/pandas-docs/stable/indexing.html#deprecate-loc-reindex-listlike\n",
      "  \"\"\"\n"
     ]
    }
   ],
   "source": [
    "school_action_dict = {}\n",
    "for school in sen_dict.keys():\n",
    "    school_action_dict[school] = sen_dict[school].loc['School - School Action']\n",
    "school_action_df = pd.DataFrame.from_dict(school_action_dict,orient='index') \n",
    "local_school_action_df = school_action_df.loc[local_schools]"
   ]
  },
  {
   "cell_type": "markdown",
   "metadata": {},
   "source": [
    "Looking at the summary data, it seems like the local schools are fairly typical of Cardiff schools in general when it comes to the percentage of SEN students."
   ]
  },
  {
   "cell_type": "code",
   "execution_count": 26,
   "metadata": {},
   "outputs": [
    {
     "data": {
      "text/html": [
       "<div>\n",
       "<style scoped>\n",
       "    .dataframe tbody tr th:only-of-type {\n",
       "        vertical-align: middle;\n",
       "    }\n",
       "\n",
       "    .dataframe tbody tr th {\n",
       "        vertical-align: top;\n",
       "    }\n",
       "\n",
       "    .dataframe thead th {\n",
       "        text-align: right;\n",
       "    }\n",
       "</style>\n",
       "<table border=\"1\" class=\"dataframe\">\n",
       "  <thead>\n",
       "    <tr style=\"text-align: right;\">\n",
       "      <th></th>\n",
       "      <th>2011</th>\n",
       "      <th>2012</th>\n",
       "      <th>2013</th>\n",
       "      <th>2014</th>\n",
       "      <th>2015</th>\n",
       "      <th>2016</th>\n",
       "      <th>2017</th>\n",
       "    </tr>\n",
       "  </thead>\n",
       "  <tbody>\n",
       "    <tr>\n",
       "      <th>count</th>\n",
       "      <td>10.000000</td>\n",
       "      <td>11.000000</td>\n",
       "      <td>11.000000</td>\n",
       "      <td>11.000000</td>\n",
       "      <td>11.000000</td>\n",
       "      <td>11.000000</td>\n",
       "      <td>11.000000</td>\n",
       "    </tr>\n",
       "    <tr>\n",
       "      <th>mean</th>\n",
       "      <td>17.950000</td>\n",
       "      <td>19.836364</td>\n",
       "      <td>17.518182</td>\n",
       "      <td>19.236364</td>\n",
       "      <td>16.936364</td>\n",
       "      <td>14.127273</td>\n",
       "      <td>14.009091</td>\n",
       "    </tr>\n",
       "    <tr>\n",
       "      <th>std</th>\n",
       "      <td>6.224548</td>\n",
       "      <td>9.433798</td>\n",
       "      <td>8.569460</td>\n",
       "      <td>9.669361</td>\n",
       "      <td>8.769638</td>\n",
       "      <td>4.021216</td>\n",
       "      <td>5.605257</td>\n",
       "    </tr>\n",
       "    <tr>\n",
       "      <th>min</th>\n",
       "      <td>11.600000</td>\n",
       "      <td>4.500000</td>\n",
       "      <td>3.400000</td>\n",
       "      <td>6.800000</td>\n",
       "      <td>5.600000</td>\n",
       "      <td>6.100000</td>\n",
       "      <td>4.500000</td>\n",
       "    </tr>\n",
       "    <tr>\n",
       "      <th>25%</th>\n",
       "      <td>13.800000</td>\n",
       "      <td>13.500000</td>\n",
       "      <td>12.500000</td>\n",
       "      <td>11.000000</td>\n",
       "      <td>11.000000</td>\n",
       "      <td>11.700000</td>\n",
       "      <td>9.200000</td>\n",
       "    </tr>\n",
       "    <tr>\n",
       "      <th>50%</th>\n",
       "      <td>17.000000</td>\n",
       "      <td>21.200000</td>\n",
       "      <td>15.700000</td>\n",
       "      <td>20.000000</td>\n",
       "      <td>15.900000</td>\n",
       "      <td>14.300000</td>\n",
       "      <td>15.700000</td>\n",
       "    </tr>\n",
       "    <tr>\n",
       "      <th>75%</th>\n",
       "      <td>19.300000</td>\n",
       "      <td>23.400000</td>\n",
       "      <td>20.700000</td>\n",
       "      <td>23.150000</td>\n",
       "      <td>18.950000</td>\n",
       "      <td>17.400000</td>\n",
       "      <td>16.700000</td>\n",
       "    </tr>\n",
       "    <tr>\n",
       "      <th>max</th>\n",
       "      <td>33.100000</td>\n",
       "      <td>37.200000</td>\n",
       "      <td>35.100000</td>\n",
       "      <td>37.700000</td>\n",
       "      <td>35.900000</td>\n",
       "      <td>19.000000</td>\n",
       "      <td>24.600000</td>\n",
       "    </tr>\n",
       "  </tbody>\n",
       "</table>\n",
       "</div>"
      ],
      "text/plain": [
       "            2011       2012       2013       2014       2015       2016  \\\n",
       "count  10.000000  11.000000  11.000000  11.000000  11.000000  11.000000   \n",
       "mean   17.950000  19.836364  17.518182  19.236364  16.936364  14.127273   \n",
       "std     6.224548   9.433798   8.569460   9.669361   8.769638   4.021216   \n",
       "min    11.600000   4.500000   3.400000   6.800000   5.600000   6.100000   \n",
       "25%    13.800000  13.500000  12.500000  11.000000  11.000000  11.700000   \n",
       "50%    17.000000  21.200000  15.700000  20.000000  15.900000  14.300000   \n",
       "75%    19.300000  23.400000  20.700000  23.150000  18.950000  17.400000   \n",
       "max    33.100000  37.200000  35.100000  37.700000  35.900000  19.000000   \n",
       "\n",
       "            2017  \n",
       "count  11.000000  \n",
       "mean   14.009091  \n",
       "std     5.605257  \n",
       "min     4.500000  \n",
       "25%     9.200000  \n",
       "50%    15.700000  \n",
       "75%    16.700000  \n",
       "max    24.600000  "
      ]
     },
     "execution_count": 26,
     "metadata": {},
     "output_type": "execute_result"
    }
   ],
   "source": [
    "local_school_action_df.describe()"
   ]
  },
  {
   "cell_type": "code",
   "execution_count": 27,
   "metadata": {},
   "outputs": [
    {
     "data": {
      "text/html": [
       "<div>\n",
       "<style scoped>\n",
       "    .dataframe tbody tr th:only-of-type {\n",
       "        vertical-align: middle;\n",
       "    }\n",
       "\n",
       "    .dataframe tbody tr th {\n",
       "        vertical-align: top;\n",
       "    }\n",
       "\n",
       "    .dataframe thead th {\n",
       "        text-align: right;\n",
       "    }\n",
       "</style>\n",
       "<table border=\"1\" class=\"dataframe\">\n",
       "  <thead>\n",
       "    <tr style=\"text-align: right;\">\n",
       "      <th></th>\n",
       "      <th>2011</th>\n",
       "      <th>2012</th>\n",
       "      <th>2013</th>\n",
       "      <th>2014</th>\n",
       "      <th>2015</th>\n",
       "      <th>2016</th>\n",
       "      <th>2017</th>\n",
       "    </tr>\n",
       "  </thead>\n",
       "  <tbody>\n",
       "    <tr>\n",
       "      <th>count</th>\n",
       "      <td>88.000000</td>\n",
       "      <td>91.000000</td>\n",
       "      <td>95.000000</td>\n",
       "      <td>93.000000</td>\n",
       "      <td>95.000000</td>\n",
       "      <td>94.000000</td>\n",
       "      <td>94.000000</td>\n",
       "    </tr>\n",
       "    <tr>\n",
       "      <th>mean</th>\n",
       "      <td>17.947727</td>\n",
       "      <td>18.998901</td>\n",
       "      <td>18.497895</td>\n",
       "      <td>18.000000</td>\n",
       "      <td>16.836842</td>\n",
       "      <td>15.830851</td>\n",
       "      <td>15.363830</td>\n",
       "    </tr>\n",
       "    <tr>\n",
       "      <th>std</th>\n",
       "      <td>9.182191</td>\n",
       "      <td>10.106230</td>\n",
       "      <td>9.224159</td>\n",
       "      <td>8.348015</td>\n",
       "      <td>8.681235</td>\n",
       "      <td>7.548667</td>\n",
       "      <td>7.749185</td>\n",
       "    </tr>\n",
       "    <tr>\n",
       "      <th>min</th>\n",
       "      <td>4.600000</td>\n",
       "      <td>4.500000</td>\n",
       "      <td>3.400000</td>\n",
       "      <td>2.400000</td>\n",
       "      <td>2.000000</td>\n",
       "      <td>3.400000</td>\n",
       "      <td>2.800000</td>\n",
       "    </tr>\n",
       "    <tr>\n",
       "      <th>25%</th>\n",
       "      <td>11.525000</td>\n",
       "      <td>10.600000</td>\n",
       "      <td>12.350000</td>\n",
       "      <td>11.500000</td>\n",
       "      <td>11.100000</td>\n",
       "      <td>9.925000</td>\n",
       "      <td>9.425000</td>\n",
       "    </tr>\n",
       "    <tr>\n",
       "      <th>50%</th>\n",
       "      <td>16.150000</td>\n",
       "      <td>17.400000</td>\n",
       "      <td>16.300000</td>\n",
       "      <td>17.400000</td>\n",
       "      <td>14.000000</td>\n",
       "      <td>14.350000</td>\n",
       "      <td>15.200000</td>\n",
       "    </tr>\n",
       "    <tr>\n",
       "      <th>75%</th>\n",
       "      <td>21.900000</td>\n",
       "      <td>24.200000</td>\n",
       "      <td>23.000000</td>\n",
       "      <td>23.500000</td>\n",
       "      <td>22.550000</td>\n",
       "      <td>19.875000</td>\n",
       "      <td>20.100000</td>\n",
       "    </tr>\n",
       "    <tr>\n",
       "      <th>max</th>\n",
       "      <td>46.200000</td>\n",
       "      <td>51.600000</td>\n",
       "      <td>50.400000</td>\n",
       "      <td>47.400000</td>\n",
       "      <td>41.100000</td>\n",
       "      <td>40.900000</td>\n",
       "      <td>38.200000</td>\n",
       "    </tr>\n",
       "  </tbody>\n",
       "</table>\n",
       "</div>"
      ],
      "text/plain": [
       "            2011       2012       2013       2014       2015       2016  \\\n",
       "count  88.000000  91.000000  95.000000  93.000000  95.000000  94.000000   \n",
       "mean   17.947727  18.998901  18.497895  18.000000  16.836842  15.830851   \n",
       "std     9.182191  10.106230   9.224159   8.348015   8.681235   7.548667   \n",
       "min     4.600000   4.500000   3.400000   2.400000   2.000000   3.400000   \n",
       "25%    11.525000  10.600000  12.350000  11.500000  11.100000   9.925000   \n",
       "50%    16.150000  17.400000  16.300000  17.400000  14.000000  14.350000   \n",
       "75%    21.900000  24.200000  23.000000  23.500000  22.550000  19.875000   \n",
       "max    46.200000  51.600000  50.400000  47.400000  41.100000  40.900000   \n",
       "\n",
       "            2017  \n",
       "count  94.000000  \n",
       "mean   15.363830  \n",
       "std     7.749185  \n",
       "min     2.800000  \n",
       "25%     9.425000  \n",
       "50%    15.200000  \n",
       "75%    20.100000  \n",
       "max    38.200000  "
      ]
     },
     "execution_count": 27,
     "metadata": {},
     "output_type": "execute_result"
    }
   ],
   "source": [
    "school_action_df.describe()"
   ]
  },
  {
   "cell_type": "markdown",
   "metadata": {},
   "source": [
    "It would be useful to know the total number of SEN students in each school. This data is not directly available, so I multiply the number of students in each school by the percentage of SEN students to get an approximate number."
   ]
  },
  {
   "cell_type": "code",
   "execution_count": 28,
   "metadata": {
    "scrolled": true
   },
   "outputs": [
    {
     "name": "stderr",
     "output_type": "stream",
     "text": [
      "/anaconda3/lib/python3.6/site-packages/pandas/core/indexing.py:1020: FutureWarning: \n",
      "Passing list-likes to .loc or [] with any missing label will raise\n",
      "KeyError in the future, you can use .reindex() as an alternative.\n",
      "\n",
      "See the documentation here:\n",
      "http://pandas.pydata.org/pandas-docs/stable/indexing.html#deprecate-loc-reindex-listlike\n",
      "  return getattr(section, self.name)[new_key]\n"
     ]
    }
   ],
   "source": [
    "number_local_sen_students = local_school_df['Number of Pupils 2017']*school_action_df.loc[local_schools,2017]/100\n",
    "number_cardiff_sen_students = cardiff_primary_school_df['Number of Pupils 2017']*school_action_df.loc[:,2017]/100"
   ]
  },
  {
   "cell_type": "markdown",
   "metadata": {},
   "source": [
    "Below we plot the number of SEN students at each school in Cardiff. To make the local schools stand out, I made them a different colour from the other schools in Cardiff. To do this I first make a list of non-local Cardiff schools, put the schools in order of number of SEN students, and then make a dataframe that has local and non-local schools in diffent columns. Then when I plot the data, the different columns get different colours. "
   ]
  },
  {
   "cell_type": "code",
   "execution_count": 29,
   "metadata": {},
   "outputs": [],
   "source": [
    "non_local_school = [school for school in number_cardiff_sen_students.keys() if school not in local_schools]"
   ]
  },
  {
   "cell_type": "code",
   "execution_count": 30,
   "metadata": {},
   "outputs": [],
   "source": [
    "order = number_cardiff_sen_students.dropna().sort_values().keys()"
   ]
  },
  {
   "cell_type": "code",
   "execution_count": 31,
   "metadata": {
    "scrolled": true
   },
   "outputs": [
    {
     "data": {
      "text/plain": [
       "<matplotlib.axes._subplots.AxesSubplot at 0x10e9bb320>"
      ]
     },
     "execution_count": 31,
     "metadata": {},
     "output_type": "execute_result"
    }
   ],
   "source": [
    "local_nonlocal_sen = pd.concat([number_cardiff_sen_students[non_local_school],number_cardiff_sen_students[local_schools]],\\\n",
    "                                                                                    axis=1,keys=['non-local','local'])\n",
    "local_nonlocal_sen.set_index(number_cardiff_sen_students.keys()).loc[order].plot(kind='bar',figsize=(15,7))"
   ]
  },
  {
   "cell_type": "markdown",
   "metadata": {},
   "source": [
    "A box plot of the SEN student data shows that the median number of SEN students is slightly higher in the local area than in Cardiff overall, but there is a tail of schools in Cardiff with an unusually high number of SEN students.  "
   ]
  },
  {
   "cell_type": "code",
   "execution_count": 32,
   "metadata": {},
   "outputs": [
    {
     "data": {
      "text/plain": [
       "<matplotlib.axes._subplots.AxesSubplot at 0x10f3f3630>"
      ]
     },
     "execution_count": 32,
     "metadata": {},
     "output_type": "execute_result"
    },
    {
     "data": {
      "image/png": "[encoded data removed]",
      "text/plain": [
       "<matplotlib.figure.Figure at 0x1176cce48>"
      ]
     },
     "metadata": {},
     "output_type": "display_data"
    }
   ],
   "source": [
    "local_nonlocal_sen.plot(kind='box',title='SEN Students in Local Area and Vs the Rest of Cardiff')"
   ]
  },
  {
   "cell_type": "markdown",
   "metadata": {},
   "source": [
    "Now we will look at the number of students in the local area who speak English as an additional language (EAL). Below we make a dictionary and dataframe of the EAL data for each school, ignoring schools which do not keep data on this. "
   ]
  },
  {
   "cell_type": "code",
   "execution_count": 33,
   "metadata": {},
   "outputs": [],
   "source": [
    "eal_dict = {}\n",
    "for school in primary_school_URLs.keys():\n",
    "    temp = load_table_into_dataFrame(primary_school_URLs[school],eal_table_id)\n",
    "    try:\n",
    "        eal_dict[school] = temp.loc['School']\n",
    "    except (KeyError, AttributeError):\n",
    "        continue\n"
   ]
  },
  {
   "cell_type": "code",
   "execution_count": 34,
   "metadata": {},
   "outputs": [],
   "source": [
    "eal_df = pd.DataFrame.from_dict(eal_dict,orient='index')"
   ]
  },
  {
   "cell_type": "markdown",
   "metadata": {},
   "source": [
    "The summary data below suggests the local schools have many more EAL students than is typical for Cardiff."
   ]
  },
  {
   "cell_type": "code",
   "execution_count": 35,
   "metadata": {},
   "outputs": [
    {
     "data": {
      "text/html": [
       "<div>\n",
       "<style scoped>\n",
       "    .dataframe tbody tr th:only-of-type {\n",
       "        vertical-align: middle;\n",
       "    }\n",
       "\n",
       "    .dataframe tbody tr th {\n",
       "        vertical-align: top;\n",
       "    }\n",
       "\n",
       "    .dataframe thead th {\n",
       "        text-align: right;\n",
       "    }\n",
       "</style>\n",
       "<table border=\"1\" class=\"dataframe\">\n",
       "  <thead>\n",
       "    <tr style=\"text-align: right;\">\n",
       "      <th></th>\n",
       "      <th>2011</th>\n",
       "      <th>2012</th>\n",
       "      <th>2013</th>\n",
       "      <th>2014</th>\n",
       "      <th>2015</th>\n",
       "      <th>2016</th>\n",
       "      <th>2017</th>\n",
       "    </tr>\n",
       "  </thead>\n",
       "  <tbody>\n",
       "    <tr>\n",
       "      <th>count</th>\n",
       "      <td>62.000000</td>\n",
       "      <td>65.000000</td>\n",
       "      <td>67.000000</td>\n",
       "      <td>68.000000</td>\n",
       "      <td>70.000000</td>\n",
       "      <td>69.000000</td>\n",
       "      <td>76.000000</td>\n",
       "    </tr>\n",
       "    <tr>\n",
       "      <th>mean</th>\n",
       "      <td>23.882258</td>\n",
       "      <td>24.807692</td>\n",
       "      <td>25.791045</td>\n",
       "      <td>26.358824</td>\n",
       "      <td>27.230000</td>\n",
       "      <td>27.642029</td>\n",
       "      <td>24.205263</td>\n",
       "    </tr>\n",
       "    <tr>\n",
       "      <th>std</th>\n",
       "      <td>24.479054</td>\n",
       "      <td>24.028904</td>\n",
       "      <td>24.445175</td>\n",
       "      <td>24.802655</td>\n",
       "      <td>25.622507</td>\n",
       "      <td>25.288258</td>\n",
       "      <td>22.767538</td>\n",
       "    </tr>\n",
       "    <tr>\n",
       "      <th>min</th>\n",
       "      <td>1.500000</td>\n",
       "      <td>1.500000</td>\n",
       "      <td>1.500000</td>\n",
       "      <td>2.100000</td>\n",
       "      <td>1.600000</td>\n",
       "      <td>2.400000</td>\n",
       "      <td>2.200000</td>\n",
       "    </tr>\n",
       "    <tr>\n",
       "      <th>25%</th>\n",
       "      <td>5.775000</td>\n",
       "      <td>7.500000</td>\n",
       "      <td>7.000000</td>\n",
       "      <td>8.275000</td>\n",
       "      <td>7.575000</td>\n",
       "      <td>8.800000</td>\n",
       "      <td>6.275000</td>\n",
       "    </tr>\n",
       "    <tr>\n",
       "      <th>50%</th>\n",
       "      <td>12.700000</td>\n",
       "      <td>14.600000</td>\n",
       "      <td>16.900000</td>\n",
       "      <td>17.350000</td>\n",
       "      <td>17.850000</td>\n",
       "      <td>18.300000</td>\n",
       "      <td>14.700000</td>\n",
       "    </tr>\n",
       "    <tr>\n",
       "      <th>75%</th>\n",
       "      <td>37.625000</td>\n",
       "      <td>36.400000</td>\n",
       "      <td>34.850000</td>\n",
       "      <td>36.500000</td>\n",
       "      <td>40.150000</td>\n",
       "      <td>42.900000</td>\n",
       "      <td>34.725000</td>\n",
       "    </tr>\n",
       "    <tr>\n",
       "      <th>max</th>\n",
       "      <td>92.500000</td>\n",
       "      <td>91.000000</td>\n",
       "      <td>90.200000</td>\n",
       "      <td>90.700000</td>\n",
       "      <td>92.900000</td>\n",
       "      <td>91.300000</td>\n",
       "      <td>87.800000</td>\n",
       "    </tr>\n",
       "  </tbody>\n",
       "</table>\n",
       "</div>"
      ],
      "text/plain": [
       "            2011       2012       2013       2014       2015       2016  \\\n",
       "count  62.000000  65.000000  67.000000  68.000000  70.000000  69.000000   \n",
       "mean   23.882258  24.807692  25.791045  26.358824  27.230000  27.642029   \n",
       "std    24.479054  24.028904  24.445175  24.802655  25.622507  25.288258   \n",
       "min     1.500000   1.500000   1.500000   2.100000   1.600000   2.400000   \n",
       "25%     5.775000   7.500000   7.000000   8.275000   7.575000   8.800000   \n",
       "50%    12.700000  14.600000  16.900000  17.350000  17.850000  18.300000   \n",
       "75%    37.625000  36.400000  34.850000  36.500000  40.150000  42.900000   \n",
       "max    92.500000  91.000000  90.200000  90.700000  92.900000  91.300000   \n",
       "\n",
       "            2017  \n",
       "count  76.000000  \n",
       "mean   24.205263  \n",
       "std    22.767538  \n",
       "min     2.200000  \n",
       "25%     6.275000  \n",
       "50%    14.700000  \n",
       "75%    34.725000  \n",
       "max    87.800000  "
      ]
     },
     "execution_count": 35,
     "metadata": {},
     "output_type": "execute_result"
    }
   ],
   "source": [
    "eal_df.describe()"
   ]
  },
  {
   "cell_type": "code",
   "execution_count": 36,
   "metadata": {},
   "outputs": [
    {
     "name": "stderr",
     "output_type": "stream",
     "text": [
      "/anaconda3/lib/python3.6/site-packages/ipykernel_launcher.py:1: FutureWarning: \n",
      "Passing list-likes to .loc or [] with any missing label will raise\n",
      "KeyError in the future, you can use .reindex() as an alternative.\n",
      "\n",
      "See the documentation here:\n",
      "http://pandas.pydata.org/pandas-docs/stable/indexing.html#deprecate-loc-reindex-listlike\n",
      "  \"\"\"Entry point for launching an IPython kernel.\n"
     ]
    },
    {
     "data": {
      "text/html": [
       "<div>\n",
       "<style scoped>\n",
       "    .dataframe tbody tr th:only-of-type {\n",
       "        vertical-align: middle;\n",
       "    }\n",
       "\n",
       "    .dataframe tbody tr th {\n",
       "        vertical-align: top;\n",
       "    }\n",
       "\n",
       "    .dataframe thead th {\n",
       "        text-align: right;\n",
       "    }\n",
       "</style>\n",
       "<table border=\"1\" class=\"dataframe\">\n",
       "  <thead>\n",
       "    <tr style=\"text-align: right;\">\n",
       "      <th></th>\n",
       "      <th>2011</th>\n",
       "      <th>2012</th>\n",
       "      <th>2013</th>\n",
       "      <th>2014</th>\n",
       "      <th>2015</th>\n",
       "      <th>2016</th>\n",
       "      <th>2017</th>\n",
       "    </tr>\n",
       "  </thead>\n",
       "  <tbody>\n",
       "    <tr>\n",
       "      <th>count</th>\n",
       "      <td>9.000000</td>\n",
       "      <td>9.000000</td>\n",
       "      <td>9.000000</td>\n",
       "      <td>9.000000</td>\n",
       "      <td>9.000000</td>\n",
       "      <td>9.000000</td>\n",
       "      <td>9.000000</td>\n",
       "    </tr>\n",
       "    <tr>\n",
       "      <th>mean</th>\n",
       "      <td>50.122222</td>\n",
       "      <td>50.188889</td>\n",
       "      <td>52.155556</td>\n",
       "      <td>54.877778</td>\n",
       "      <td>56.133333</td>\n",
       "      <td>55.966667</td>\n",
       "      <td>52.722222</td>\n",
       "    </tr>\n",
       "    <tr>\n",
       "      <th>std</th>\n",
       "      <td>30.388805</td>\n",
       "      <td>30.356525</td>\n",
       "      <td>28.655371</td>\n",
       "      <td>28.410068</td>\n",
       "      <td>27.949866</td>\n",
       "      <td>24.678786</td>\n",
       "      <td>23.870891</td>\n",
       "    </tr>\n",
       "    <tr>\n",
       "      <th>min</th>\n",
       "      <td>13.100000</td>\n",
       "      <td>13.800000</td>\n",
       "      <td>19.900000</td>\n",
       "      <td>17.700000</td>\n",
       "      <td>18.800000</td>\n",
       "      <td>23.400000</td>\n",
       "      <td>21.200000</td>\n",
       "    </tr>\n",
       "    <tr>\n",
       "      <th>25%</th>\n",
       "      <td>26.100000</td>\n",
       "      <td>26.900000</td>\n",
       "      <td>27.600000</td>\n",
       "      <td>32.400000</td>\n",
       "      <td>33.700000</td>\n",
       "      <td>36.000000</td>\n",
       "      <td>35.400000</td>\n",
       "    </tr>\n",
       "    <tr>\n",
       "      <th>50%</th>\n",
       "      <td>39.900000</td>\n",
       "      <td>42.800000</td>\n",
       "      <td>43.000000</td>\n",
       "      <td>45.500000</td>\n",
       "      <td>47.300000</td>\n",
       "      <td>48.000000</td>\n",
       "      <td>50.100000</td>\n",
       "    </tr>\n",
       "    <tr>\n",
       "      <th>75%</th>\n",
       "      <td>73.000000</td>\n",
       "      <td>71.300000</td>\n",
       "      <td>77.100000</td>\n",
       "      <td>83.900000</td>\n",
       "      <td>84.800000</td>\n",
       "      <td>75.200000</td>\n",
       "      <td>73.600000</td>\n",
       "    </tr>\n",
       "    <tr>\n",
       "      <th>max</th>\n",
       "      <td>92.500000</td>\n",
       "      <td>91.000000</td>\n",
       "      <td>90.200000</td>\n",
       "      <td>90.700000</td>\n",
       "      <td>92.900000</td>\n",
       "      <td>91.300000</td>\n",
       "      <td>87.800000</td>\n",
       "    </tr>\n",
       "  </tbody>\n",
       "</table>\n",
       "</div>"
      ],
      "text/plain": [
       "            2011       2012       2013       2014       2015       2016  \\\n",
       "count   9.000000   9.000000   9.000000   9.000000   9.000000   9.000000   \n",
       "mean   50.122222  50.188889  52.155556  54.877778  56.133333  55.966667   \n",
       "std    30.388805  30.356525  28.655371  28.410068  27.949866  24.678786   \n",
       "min    13.100000  13.800000  19.900000  17.700000  18.800000  23.400000   \n",
       "25%    26.100000  26.900000  27.600000  32.400000  33.700000  36.000000   \n",
       "50%    39.900000  42.800000  43.000000  45.500000  47.300000  48.000000   \n",
       "75%    73.000000  71.300000  77.100000  83.900000  84.800000  75.200000   \n",
       "max    92.500000  91.000000  90.200000  90.700000  92.900000  91.300000   \n",
       "\n",
       "            2017  \n",
       "count   9.000000  \n",
       "mean   52.722222  \n",
       "std    23.870891  \n",
       "min    21.200000  \n",
       "25%    35.400000  \n",
       "50%    50.100000  \n",
       "75%    73.600000  \n",
       "max    87.800000  "
      ]
     },
     "execution_count": 36,
     "metadata": {},
     "output_type": "execute_result"
    }
   ],
   "source": [
    "eal_df.loc[local_schools].describe()"
   ]
  },
  {
   "cell_type": "markdown",
   "metadata": {},
   "source": [
    "As with SEN students, we have to estimate the total number of EAL students ny multiplying the total number of students by the percentage of them that are EAL students. "
   ]
  },
  {
   "cell_type": "code",
   "execution_count": 37,
   "metadata": {},
   "outputs": [],
   "source": [
    "num_eal_students_local = (cardiff_primary_school_df['Number of Pupils 2017']*eal_df.loc[:,2017]/100)[local_schools]\n",
    "num_eal_students_cardiff = (cardiff_primary_school_df['Number of Pupils 2017']*eal_df.loc[:,2017]/100)"
   ]
  },
  {
   "cell_type": "markdown",
   "metadata": {},
   "source": [
    "Making a box plot of this data, we see that the local area has many more EAL students than the rest of Cardiff. The three Cardiff schools with the most EAL students are all in the local area."
   ]
  },
  {
   "cell_type": "code",
   "execution_count": 38,
   "metadata": {},
   "outputs": [
    {
     "data": {
      "text/plain": [
       "<matplotlib.axes._subplots.AxesSubplot at 0x10d4ee208>"
      ]
     },
     "execution_count": 38,
     "metadata": {},
     "output_type": "execute_result"
    },
    {
     "data": {
      "image/png": "[encoded data removed]",
      "text/plain": [
       "<matplotlib.figure.Figure at 0x10d4fc518>"
      ]
     },
     "metadata": {},
     "output_type": "display_data"
    }
   ],
   "source": [
    "(pd.concat([num_eal_students_cardiff, num_eal_students_cardiff[non_local_school], num_eal_students_local]\\\n",
    "           ,axis=1,keys=['Cardiff','Cardiff - non-local','Local'])).plot(kind='box',title='Number of EAL students')"
   ]
  },
  {
   "cell_type": "markdown",
   "metadata": {},
   "source": [
    "Of the 12 local schools, 5 are in the top decile for EAL students."
   ]
  },
  {
   "cell_type": "code",
   "execution_count": 39,
   "metadata": {},
   "outputs": [
    {
     "data": {
      "text/plain": [
       "5"
      ]
     },
     "execution_count": 39,
     "metadata": {},
     "output_type": "execute_result"
    }
   ],
   "source": [
    "pc90_eal = num_eal_students_cardiff[num_eal_students_cardiff>num_eal_students_cardiff.quantile(q=0.9)].keys()\n",
    "sum(np.isin(local_schools,pc90_eal))"
   ]
  },
  {
   "cell_type": "markdown",
   "metadata": {},
   "source": [
    "Below is a plot of the number of EAL students in local and non-local schools in the top 90% for EAL students. It shows quite clearly that the local schools are at the high end of EAL students for Cardiff."
   ]
  },
  {
   "cell_type": "code",
   "execution_count": 40,
   "metadata": {},
   "outputs": [],
   "source": [
    "local_pc90 = pc90_eal[np.isin(pc90_eal,local_schools)]\n",
    "non_local_pc90 = pc90_eal[~np.isin(pc90_eal,local_schools)]"
   ]
  },
  {
   "cell_type": "code",
   "execution_count": 41,
   "metadata": {},
   "outputs": [],
   "source": [
    "pc90_local_nonlocal = pd.concat([num_eal_students_cardiff[non_local_pc90],num_eal_students_cardiff[local_pc90]]\\\n",
    "          ,axis=1,keys=['Non-local','Local'])"
   ]
  },
  {
   "cell_type": "code",
   "execution_count": 42,
   "metadata": {},
   "outputs": [],
   "source": [
    "pc90_eal_df = num_eal_students_cardiff[pc90_eal]"
   ]
  },
  {
   "cell_type": "code",
   "execution_count": 43,
   "metadata": {},
   "outputs": [],
   "source": [
    "order = pc90_eal_df.sort_values().keys()"
   ]
  },
  {
   "cell_type": "code",
   "execution_count": 44,
   "metadata": {},
   "outputs": [
    {
     "data": {
      "text/plain": [
       "<matplotlib.axes._subplots.AxesSubplot at 0x10d4fc320>"
      ]
     },
     "execution_count": 44,
     "metadata": {},
     "output_type": "execute_result"
    },
    {
     "data": {
      "image/png": "[encoded data removed]",
      "text/plain": [
       "<matplotlib.figure.Figure at 0x116a3c588>"
      ]
     },
     "metadata": {},
     "output_type": "display_data"
    }
   ],
   "source": [
    "pc90_local_nonlocal.set_index(pc90_eal).loc[order].plot(kind='bar')"
   ]
  },
  {
   "cell_type": "markdown",
   "metadata": {},
   "source": [
    "And below is a the same plot but for all of Cardiff."
   ]
  },
  {
   "cell_type": "code",
   "execution_count": 45,
   "metadata": {},
   "outputs": [],
   "source": [
    "order = num_eal_students_cardiff.dropna().sort_values().keys()"
   ]
  },
  {
   "cell_type": "code",
   "execution_count": 46,
   "metadata": {
    "scrolled": true
   },
   "outputs": [
    {
     "data": {
      "text/plain": [
       "<matplotlib.axes._subplots.AxesSubplot at 0x10ec3ba90>"
      ]
     },
     "execution_count": 46,
     "metadata": {},
     "output_type": "execute_result"
    },
    {
     "data": {
      "image/png": "[encoded data removed]",
      "text/plain": [
       "<matplotlib.figure.Figure at 0x1165edb00>"
      ]
     },
     "metadata": {},
     "output_type": "display_data"
    }
   ],
   "source": [
    "local_nonlocal_eal = pd.concat([num_eal_students_cardiff[non_local_school],num_eal_students_cardiff[local_schools]],\\\n",
    "                                                                                    axis=1,keys=['non-local','local'])\n",
    "local_nonlocal_eal.set_index(num_eal_students_cardiff.keys()).loc[order].plot(kind='bar',figsize=(15,7))"
   ]
  },
  {
   "cell_type": "markdown",
   "metadata": {},
   "source": [
    "Below we have two pie charts, one showing the number of EAL students in the local area vs the whole of Cardiff, and the other showing just the number of primary students in the local area vs the whole of Cardiff. It clearly shows EAL students are much more common in the local area."
   ]
  },
  {
   "cell_type": "code",
   "execution_count": 47,
   "metadata": {},
   "outputs": [
    {
     "data": {
      "text/plain": [
       "<matplotlib.axes._subplots.AxesSubplot at 0x117c4ca90>"
      ]
     },
     "execution_count": 47,
     "metadata": {},
     "output_type": "execute_result"
    },
    {
     "data": {
      "image/png": "[encoded data removed]",
      "text/plain": [
       "<matplotlib.figure.Figure at 0x10ebb9898>"
      ]
     },
     "metadata": {},
     "output_type": "display_data"
    }
   ],
   "source": [
    "local_nonlocal_eal.sum().plot(kind='pie',figsize=(7,7),title='Number of EAL students')"
   ]
  },
  {
   "cell_type": "code",
   "execution_count": 48,
   "metadata": {},
   "outputs": [
    {
     "data": {
      "text/plain": [
       "<matplotlib.axes._subplots.AxesSubplot at 0x117f21ac8>"
      ]
     },
     "execution_count": 48,
     "metadata": {},
     "output_type": "execute_result"
    },
    {
     "data": {
      "image/png": "[encoded data removed]",
      "text/plain": [
       "<matplotlib.figure.Figure at 0x117f046d8>"
      ]
     },
     "metadata": {},
     "output_type": "display_data"
    }
   ],
   "source": [
    "local_nonlocal_students = pd.concat([cardiff_primary_school_df['Number of Pupils 2017'][non_local_school],\\\n",
    "           cardiff_primary_school_df['Number of Pupils 2017'][local_schools]],\\\n",
    "          keys=['non-local','local'], axis=1).sum()\n",
    "local_nonlocal_students.plot(kind='pie',figsize=(7,7),title='Number of students')"
   ]
  },
  {
   "cell_type": "markdown",
   "metadata": {},
   "source": [
    "In the local area, about 43% of students are EAL students, as opposed to about 15% for Cardiff as a whole."
   ]
  },
  {
   "cell_type": "code",
   "execution_count": 49,
   "metadata": {},
   "outputs": [
    {
     "data": {
      "text/plain": [
       "non-local    0.154691\n",
       "local        0.434536\n",
       "dtype: float64"
      ]
     },
     "execution_count": 49,
     "metadata": {},
     "output_type": "execute_result"
    }
   ],
   "source": [
    "local_nonlocal_eal.sum()/local_nonlocal_students"
   ]
  },
  {
   "cell_type": "code",
   "execution_count": null,
   "metadata": {},
   "outputs": [],
   "source": []
  },
  {
   "cell_type": "code",
   "execution_count": null,
   "metadata": {},
   "outputs": [],
   "source": []
  }
 ],
 "metadata": {
  "kernelspec": {
   "display_name": "Python 3",
   "language": "python",
   "name": "python3"
  },
  "language_info": {
   "codemirror_mode": {
    "name": "ipython",
    "version": 3
   },
   "file_extension": ".py",
   "mimetype": "text/x-python",
   "name": "python",
   "nbconvert_exporter": "python",
   "pygments_lexer": "ipython3",
   "version": "3.6.4"
  }
 },
 "nbformat": 4,
 "nbformat_minor": 2
}
