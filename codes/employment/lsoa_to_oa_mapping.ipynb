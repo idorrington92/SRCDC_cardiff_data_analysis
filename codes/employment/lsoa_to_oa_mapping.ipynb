{
 "cells": [
  {
   "cell_type": "markdown",
   "metadata": {},
   "source": [
    "This code is to look at employment data in the area where SRCDC operates (the Grangetown, Canton, and Riverside areas of Cardiff). The data is from the last UK cencus in 2011."
   ]
  },
  {
   "cell_type": "code",
   "execution_count": 3,
   "metadata": {},
   "outputs": [],
   "source": [
    "import pandas as pd\n",
    "from bs4 import BeautifulSoup\n",
    "import requests\n",
    "import numpy as np"
   ]
  },
  {
   "cell_type": "markdown",
   "metadata": {},
   "source": [
    "The data is arranged by output area, OA. These are small areas on about 150 people each. These are combined to make lower super output areas, LSOAs, of about 1500 people. The LSOA codes for the areas we are interested in are in the lists below (taken from https://gov.wales/docs/statistics/lsoamaps/lsoa.htm). Note, south Grangetown and North Riverside are much more affluent than the the South Riverside, North Grangetown, and Canton areas where the SRCDC operates, so we exclude those OAs from the analysis."
   ]
  },
  {
   "cell_type": "code",
   "execution_count": 4,
   "metadata": {},
   "outputs": [],
   "source": [
    "grangetown_codes = ['W01001759','W01001760','W01001761','W01001762','W01001764','W01001765',\\\n",
    "                    'W01001766','W01001767','W01001768','W01001946']\n",
    "canton_codes = ['W01001709', 'W01001710', 'W01001711', 'W01001712', 'W01001713', 'W01001714',\\\n",
    "                'W01001715', 'W01001716', 'W01001717'] \n",
    "riverside_codes = ['W01001855', 'W01001856', 'W01001857', 'W01001862']\n",
    "lsoa_codes = np.concatenate([grangetown_codes, canton_codes, riverside_codes])\n",
    "\n",
    "\n",
    "south_grangetown=['W01001945','W01001947']\n",
    "north_riverside = ['W01001858', 'W01001859', 'W01001860','W01001861']"
   ]
  },
  {
   "cell_type": "markdown",
   "metadata": {},
   "source": [
    "To get the OA codes for each OA the LSOAs, I scrape the webpage for each LSOA. The webpage for each LSOA is of the form http://statistics.data.gov.uk/doc/statistical-geography/[[LSOA_CODE]]. The OA codes are saved as a list for easy looping through them and a dictionary so that we can work backwards and get the LSOA from the code.  "
   ]
  },
  {
   "cell_type": "code",
   "execution_count": 82,
   "metadata": {},
   "outputs": [
    {
     "name": "stdout",
     "output_type": "stream",
     "text": [
      "100\n",
      "200\n",
      "300\n",
      "400\n",
      "500\n",
      "600\n",
      "700\n",
      "800\n",
      "900\n",
      "1000\n",
      "1100\n",
      "1200\n",
      "1300\n",
      "1400\n",
      "1500\n",
      "1600\n",
      "1700\n",
      "1800\n",
      "1900\n"
     ]
    }
   ],
   "source": [
    "oa_codes_dict = {}\n",
    "oa_codes_list = []\n",
    "for idx in range(1,2000):\n",
    "    if idx%100==0: print(idx) \n",
    "    index=str(idx)\n",
    "    index = ''.join([str(np.zeros(4-len(index),dtype=int)).replace(\" \", \"\")[1:-1],index])\n",
    "    index = 'W0100' + index\n",
    "    oa_page = requests.get(\"http://statistics.data.gov.uk/doc/statistical-geography/\" + index)\n",
    "    soup = BeautifulSoup(oa_page.content, 'html.parser')\n",
    "    link_form = \"a[href*=http://statistics.data.gov.uk/id/statistical-geography/W00]\"\n",
    "    oa_codes_dict[index] = [soup.select(link_form)[i].getText() for i in range(len(soup.select(link_form)))\\\n",
    "                           if len(soup.select(link_form))]\n",
    "    oa_codes_list=np.concatenate([oa_codes_list,[soup.select(link_form)[i].getText() for i in range(len(soup.select(link_form)))]])\n",
    "    "
   ]
  },
  {
   "cell_type": "code",
   "execution_count": 85,
   "metadata": {},
   "outputs": [],
   "source": [
    "np.save('lsoa_to_oa_dict.npy',oa_codes_dict)"
   ]
  },
  {
   "cell_type": "markdown",
   "metadata": {},
   "source": [
    "To load this dict run:"
   ]
  },
  {
   "cell_type": "code",
   "execution_count": 89,
   "metadata": {},
   "outputs": [],
   "source": [
    "lsoa_dict=np.load('lsoa_to_oa_dict.npy').item(0)"
   ]
  },
  {
   "cell_type": "markdown",
   "metadata": {},
   "source": [
    "Invert this dictionary to find the LSOA that any OA is in."
   ]
  },
  {
   "cell_type": "code",
   "execution_count": 94,
   "metadata": {},
   "outputs": [],
   "source": [
    "inv_dict = {oa: lsoa for lsoa, oa_list in oa_codes_dict.items() for oa in oa_list}"
   ]
  },
  {
   "cell_type": "code",
   "execution_count": 101,
   "metadata": {},
   "outputs": [],
   "source": [
    "np.save('oa_to_lsoa_dict.npy',inv_dict)"
   ]
  },
  {
   "cell_type": "markdown",
   "metadata": {},
   "source": [
    "Now need to map LSOA names to LSOA codes."
   ]
  },
  {
   "cell_type": "code",
   "execution_count": 119,
   "metadata": {},
   "outputs": [
    {
     "name": "stdout",
     "output_type": "stream",
     "text": [
      "100\n",
      "200\n",
      "300\n",
      "400\n",
      "500\n",
      "600\n",
      "700\n",
      "800\n",
      "900\n",
      "1000\n",
      "1100\n",
      "1200\n",
      "1300\n",
      "1400\n",
      "1500\n",
      "1600\n",
      "1700\n",
      "1800\n",
      "1900\n"
     ]
    }
   ],
   "source": [
    "lsoa_to_name_dict = {}\n",
    "for idx in range(1,2000):\n",
    "    if idx%100==0: print(idx) \n",
    "    index=str(idx)\n",
    "    index = ''.join([str(np.zeros(4-len(index),dtype=int)).replace(\" \", \"\")[1:-1],index])\n",
    "    index = 'W0100' + index\n",
    "    oa_page = requests.get(\"http://statistics.data.gov.uk/doc/statistical-geography/\" + index)\n",
    "    soup = BeautifulSoup(oa_page.content, 'html.parser')\n",
    "    try:\n",
    "        lsoa_to_name_dict[index] = soup.select(\"title\")[0].getText().split(\"|\")[1].strip()\n",
    "    except IndexError:\n",
    "        continue"
   ]
  },
  {
   "cell_type": "code",
   "execution_count": 122,
   "metadata": {},
   "outputs": [],
   "source": [
    "np.save('lsoa_to_name_dict.npy',lsoa_to_name_dict)"
   ]
  },
  {
   "cell_type": "code",
   "execution_count": null,
   "metadata": {},
   "outputs": [],
   "source": []
  }
 ],
 "metadata": {
  "kernelspec": {
   "display_name": "Python 3",
   "language": "python",
   "name": "python3"
  },
  "language_info": {
   "codemirror_mode": {
    "name": "ipython",
    "version": 3
   },
   "file_extension": ".py",
   "mimetype": "text/x-python",
   "name": "python",
   "nbconvert_exporter": "python",
   "pygments_lexer": "ipython3",
   "version": "3.6.4"
  }
 },
 "nbformat": 4,
 "nbformat_minor": 2
}
