{
 "cells": [
  {
   "cell_type": "markdown",
   "metadata": {},
   "source": [
    "This code is to look at employment data in the area where SRCDC operates (the Grangetown, Canton, and Riverside areas of Cardiff). The data is from the last UK cencus in 2011."
   ]
  },
  {
   "cell_type": "code",
   "execution_count": 1,
   "metadata": {},
   "outputs": [],
   "source": [
    "import pandas as pd\n",
    "from bs4 import BeautifulSoup\n",
    "import requests\n",
    "import numpy as np"
   ]
  },
  {
   "cell_type": "markdown",
   "metadata": {},
   "source": [
    "The data is arranged by output area, OA. These are small areas on about 150 people each. These are combined to make lower super output areas, LSOAs, of about 1500 people. The LSOA codes for the areas we are interested in are in the lists below (taken from https://gov.wales/docs/statistics/lsoamaps/lsoa.htm). Note, south Grangetown and North Riverside are much more affluent than the the South Riverside, North Grangetown, and Canton areas where the SRCDC operates, so we exclude those OAs from the analysis."
   ]
  },
  {
   "cell_type": "code",
   "execution_count": 2,
   "metadata": {},
   "outputs": [],
   "source": [
    "grangetown_codes = ['W01001759','W01001760','W01001761','W01001762','W01001764','W01001765',\\\n",
    "                    'W01001766','W01001767','W01001768','W01001946']\n",
    "canton_codes = ['W01001709', 'W01001710', 'W01001711', 'W01001712', 'W01001713', 'W01001714',\\\n",
    "                'W01001715', 'W01001716', 'W01001717'] \n",
    "riverside_codes = ['W01001855', 'W01001856', 'W01001857', 'W01001862']\n",
    "lsoa_codes = np.concatenate([grangetown_codes, canton_codes, riverside_codes])\n",
    "\n",
    "\n",
    "south_grangetown=['W01001945','W01001947']\n",
    "north_riverside = ['W01001858', 'W01001859', 'W01001860','W01001861']"
   ]
  },
  {
   "cell_type": "markdown",
   "metadata": {},
   "source": [
    "To get the OA codes for each OA the LSOAs, I scrape the webpage for each LSOA. The webpage for each LSOA is of the form http://statistics.data.gov.uk/doc/statistical-geography/[[LSOA_CODE]]. The OA codes are saved as a list for easy looping through them and a dictionary so that we can work backwards and get the LSOA from the code.  "
   ]
  },
  {
   "cell_type": "code",
   "execution_count": 3,
   "metadata": {},
   "outputs": [],
   "source": [
    "oa_codes_dict = {}\n",
    "oa_codes_list = []\n",
    "for index in lsoa_codes:\n",
    "    oa_page = requests.get(\"http://statistics.data.gov.uk/doc/statistical-geography/\" + index)\n",
    "    soup = BeautifulSoup(oa_page.content, 'html.parser')\n",
    "    link_form = \"a[href*=http://statistics.data.gov.uk/id/statistical-geography/W00]\"\n",
    "    oa_codes_dict[index] = [soup.select(link_form)[i].getText() for i in range(len(soup.select(link_form)))]\n",
    "    oa_codes_list=np.concatenate([oa_codes_list,[soup.select(link_form)[i].getText() for i in range(len(soup.select(link_form)))]])\n",
    "    "
   ]
  },
  {
   "cell_type": "code",
   "execution_count": 4,
   "metadata": {},
   "outputs": [],
   "source": [
    "full_data = pd.read_csv('census_employment_data.csv')"
   ]
  },
  {
   "cell_type": "markdown",
   "metadata": {},
   "source": [
    "The column names are too long and repetitive. Here we trim them down to the core information."
   ]
  },
  {
   "cell_type": "code",
   "execution_count": 5,
   "metadata": {},
   "outputs": [],
   "source": [
    "new_keys = []\n",
    "for key in full_data.keys():\n",
    "    if 'Economic Activity' in key:\n",
    "        new_keys.append(''.join(key.split(':')[1:-1]).split(';')[0].strip())\n",
    "    else:\n",
    "        new_keys.append(key.strip())\n",
    "full_data.columns = new_keys"
   ]
  },
  {
   "cell_type": "code",
   "execution_count": 6,
   "metadata": {},
   "outputs": [],
   "source": [
    "data = full_data.set_index('geography')"
   ]
  },
  {
   "cell_type": "code",
   "execution_count": 7,
   "metadata": {},
   "outputs": [],
   "source": [
    "local_data = data.loc[oa_codes_list]"
   ]
  },
  {
   "cell_type": "code",
   "execution_count": 8,
   "metadata": {},
   "outputs": [
    {
     "data": {
      "text/plain": [
       "Index(['date', 'geography code', 'All usual residents aged 16 to 74',\n",
       "       'Economically active', 'Economically active In employment',\n",
       "       'Economically active Employee Part-time',\n",
       "       'Economically active Employee Full-time',\n",
       "       'Economically active Self-employed', 'Economically active Unemployed',\n",
       "       'Economically active Full-time student', 'Economically Inactive',\n",
       "       'Economically inactive Retired',\n",
       "       'Economically inactive Student (including full-time students)',\n",
       "       'Economically inactive Looking after home or family',\n",
       "       'Economically inactive Long-term sick or disabled',\n",
       "       'Economically inactive Other', 'Unemployed Age 16 to 24',\n",
       "       'Unemployed Age 50 to 74', 'Unemployed Never worked',\n",
       "       'Long-term unemployed'],\n",
       "      dtype='object')"
      ]
     },
     "execution_count": 8,
     "metadata": {},
     "output_type": "execute_result"
    }
   ],
   "source": [
    "local_data.keys()"
   ]
  },
  {
   "cell_type": "code",
   "execution_count": 9,
   "metadata": {},
   "outputs": [
    {
     "data": {
      "text/html": [
       "<div>\n",
       "<style scoped>\n",
       "    .dataframe tbody tr th:only-of-type {\n",
       "        vertical-align: middle;\n",
       "    }\n",
       "\n",
       "    .dataframe tbody tr th {\n",
       "        vertical-align: top;\n",
       "    }\n",
       "\n",
       "    .dataframe thead th {\n",
       "        text-align: right;\n",
       "    }\n",
       "</style>\n",
       "<table border=\"1\" class=\"dataframe\">\n",
       "  <thead>\n",
       "    <tr style=\"text-align: right;\">\n",
       "      <th></th>\n",
       "      <th>date</th>\n",
       "      <th>All usual residents aged 16 to 74</th>\n",
       "      <th>Economically active</th>\n",
       "      <th>Economically active In employment</th>\n",
       "      <th>Economically active Employee Part-time</th>\n",
       "      <th>Economically active Employee Full-time</th>\n",
       "      <th>Economically active Self-employed</th>\n",
       "      <th>Economically active Unemployed</th>\n",
       "      <th>Economically active Full-time student</th>\n",
       "      <th>Economically Inactive</th>\n",
       "      <th>Economically inactive Retired</th>\n",
       "      <th>Economically inactive Student (including full-time students)</th>\n",
       "      <th>Economically inactive Looking after home or family</th>\n",
       "      <th>Economically inactive Long-term sick or disabled</th>\n",
       "      <th>Economically inactive Other</th>\n",
       "      <th>Unemployed Age 16 to 24</th>\n",
       "      <th>Unemployed Age 50 to 74</th>\n",
       "      <th>Unemployed Never worked</th>\n",
       "      <th>Long-term unemployed</th>\n",
       "    </tr>\n",
       "  </thead>\n",
       "  <tbody>\n",
       "    <tr>\n",
       "      <th>count</th>\n",
       "      <td>116.0</td>\n",
       "      <td>116.000000</td>\n",
       "      <td>116.000000</td>\n",
       "      <td>116.000000</td>\n",
       "      <td>116.000000</td>\n",
       "      <td>116.000000</td>\n",
       "      <td>116.000000</td>\n",
       "      <td>116.000000</td>\n",
       "      <td>116.000000</td>\n",
       "      <td>116.000000</td>\n",
       "      <td>116.000000</td>\n",
       "      <td>116.000000</td>\n",
       "      <td>116.000000</td>\n",
       "      <td>116.000000</td>\n",
       "      <td>116.000000</td>\n",
       "      <td>116.000000</td>\n",
       "      <td>116.000000</td>\n",
       "      <td>116.000000</td>\n",
       "      <td>116.000000</td>\n",
       "    </tr>\n",
       "    <tr>\n",
       "      <th>mean</th>\n",
       "      <td>2011.0</td>\n",
       "      <td>241.706897</td>\n",
       "      <td>165.974138</td>\n",
       "      <td>142.939655</td>\n",
       "      <td>32.724138</td>\n",
       "      <td>90.086207</td>\n",
       "      <td>20.129310</td>\n",
       "      <td>13.112069</td>\n",
       "      <td>9.922414</td>\n",
       "      <td>75.732759</td>\n",
       "      <td>21.034483</td>\n",
       "      <td>15.500000</td>\n",
       "      <td>14.000000</td>\n",
       "      <td>16.586207</td>\n",
       "      <td>8.612069</td>\n",
       "      <td>3.706897</td>\n",
       "      <td>2.129310</td>\n",
       "      <td>2.784483</td>\n",
       "      <td>4.818966</td>\n",
       "    </tr>\n",
       "    <tr>\n",
       "      <th>std</th>\n",
       "      <td>0.0</td>\n",
       "      <td>50.972971</td>\n",
       "      <td>37.322673</td>\n",
       "      <td>35.314805</td>\n",
       "      <td>9.865695</td>\n",
       "      <td>26.853732</td>\n",
       "      <td>8.375461</td>\n",
       "      <td>6.925406</td>\n",
       "      <td>13.333287</td>\n",
       "      <td>30.058597</td>\n",
       "      <td>8.593153</td>\n",
       "      <td>17.412889</td>\n",
       "      <td>8.781403</td>\n",
       "      <td>9.050649</td>\n",
       "      <td>6.282857</td>\n",
       "      <td>2.800675</td>\n",
       "      <td>1.853458</td>\n",
       "      <td>2.525715</td>\n",
       "      <td>3.226518</td>\n",
       "    </tr>\n",
       "    <tr>\n",
       "      <th>min</th>\n",
       "      <td>2011.0</td>\n",
       "      <td>128.000000</td>\n",
       "      <td>77.000000</td>\n",
       "      <td>61.000000</td>\n",
       "      <td>11.000000</td>\n",
       "      <td>30.000000</td>\n",
       "      <td>3.000000</td>\n",
       "      <td>0.000000</td>\n",
       "      <td>0.000000</td>\n",
       "      <td>28.000000</td>\n",
       "      <td>2.000000</td>\n",
       "      <td>2.000000</td>\n",
       "      <td>1.000000</td>\n",
       "      <td>2.000000</td>\n",
       "      <td>0.000000</td>\n",
       "      <td>0.000000</td>\n",
       "      <td>0.000000</td>\n",
       "      <td>0.000000</td>\n",
       "      <td>0.000000</td>\n",
       "    </tr>\n",
       "    <tr>\n",
       "      <th>25%</th>\n",
       "      <td>2011.0</td>\n",
       "      <td>214.750000</td>\n",
       "      <td>146.000000</td>\n",
       "      <td>123.750000</td>\n",
       "      <td>26.000000</td>\n",
       "      <td>74.750000</td>\n",
       "      <td>14.000000</td>\n",
       "      <td>7.000000</td>\n",
       "      <td>4.000000</td>\n",
       "      <td>56.000000</td>\n",
       "      <td>14.750000</td>\n",
       "      <td>9.000000</td>\n",
       "      <td>7.000000</td>\n",
       "      <td>10.000000</td>\n",
       "      <td>4.000000</td>\n",
       "      <td>1.000000</td>\n",
       "      <td>1.000000</td>\n",
       "      <td>1.000000</td>\n",
       "      <td>2.000000</td>\n",
       "    </tr>\n",
       "    <tr>\n",
       "      <th>50%</th>\n",
       "      <td>2011.0</td>\n",
       "      <td>236.500000</td>\n",
       "      <td>168.000000</td>\n",
       "      <td>143.500000</td>\n",
       "      <td>31.000000</td>\n",
       "      <td>89.000000</td>\n",
       "      <td>18.000000</td>\n",
       "      <td>12.000000</td>\n",
       "      <td>8.000000</td>\n",
       "      <td>69.500000</td>\n",
       "      <td>20.000000</td>\n",
       "      <td>12.000000</td>\n",
       "      <td>12.000000</td>\n",
       "      <td>15.000000</td>\n",
       "      <td>8.000000</td>\n",
       "      <td>3.000000</td>\n",
       "      <td>2.000000</td>\n",
       "      <td>2.000000</td>\n",
       "      <td>4.000000</td>\n",
       "    </tr>\n",
       "    <tr>\n",
       "      <th>75%</th>\n",
       "      <td>2011.0</td>\n",
       "      <td>268.000000</td>\n",
       "      <td>188.000000</td>\n",
       "      <td>165.250000</td>\n",
       "      <td>40.000000</td>\n",
       "      <td>106.250000</td>\n",
       "      <td>26.000000</td>\n",
       "      <td>19.000000</td>\n",
       "      <td>12.000000</td>\n",
       "      <td>92.250000</td>\n",
       "      <td>26.000000</td>\n",
       "      <td>18.000000</td>\n",
       "      <td>19.000000</td>\n",
       "      <td>22.000000</td>\n",
       "      <td>11.000000</td>\n",
       "      <td>5.000000</td>\n",
       "      <td>3.000000</td>\n",
       "      <td>4.250000</td>\n",
       "      <td>6.250000</td>\n",
       "    </tr>\n",
       "    <tr>\n",
       "      <th>max</th>\n",
       "      <td>2011.0</td>\n",
       "      <td>457.000000</td>\n",
       "      <td>264.000000</td>\n",
       "      <td>237.000000</td>\n",
       "      <td>61.000000</td>\n",
       "      <td>170.000000</td>\n",
       "      <td>41.000000</td>\n",
       "      <td>30.000000</td>\n",
       "      <td>139.000000</td>\n",
       "      <td>229.000000</td>\n",
       "      <td>50.000000</td>\n",
       "      <td>177.000000</td>\n",
       "      <td>44.000000</td>\n",
       "      <td>48.000000</td>\n",
       "      <td>33.000000</td>\n",
       "      <td>13.000000</td>\n",
       "      <td>8.000000</td>\n",
       "      <td>10.000000</td>\n",
       "      <td>16.000000</td>\n",
       "    </tr>\n",
       "  </tbody>\n",
       "</table>\n",
       "</div>"
      ],
      "text/plain": [
       "         date  All usual residents aged 16 to 74  Economically active  \\\n",
       "count   116.0                         116.000000           116.000000   \n",
       "mean   2011.0                         241.706897           165.974138   \n",
       "std       0.0                          50.972971            37.322673   \n",
       "min    2011.0                         128.000000            77.000000   \n",
       "25%    2011.0                         214.750000           146.000000   \n",
       "50%    2011.0                         236.500000           168.000000   \n",
       "75%    2011.0                         268.000000           188.000000   \n",
       "max    2011.0                         457.000000           264.000000   \n",
       "\n",
       "       Economically active In employment  \\\n",
       "count                         116.000000   \n",
       "mean                          142.939655   \n",
       "std                            35.314805   \n",
       "min                            61.000000   \n",
       "25%                           123.750000   \n",
       "50%                           143.500000   \n",
       "75%                           165.250000   \n",
       "max                           237.000000   \n",
       "\n",
       "       Economically active Employee Part-time  \\\n",
       "count                              116.000000   \n",
       "mean                                32.724138   \n",
       "std                                  9.865695   \n",
       "min                                 11.000000   \n",
       "25%                                 26.000000   \n",
       "50%                                 31.000000   \n",
       "75%                                 40.000000   \n",
       "max                                 61.000000   \n",
       "\n",
       "       Economically active Employee Full-time  \\\n",
       "count                              116.000000   \n",
       "mean                                90.086207   \n",
       "std                                 26.853732   \n",
       "min                                 30.000000   \n",
       "25%                                 74.750000   \n",
       "50%                                 89.000000   \n",
       "75%                                106.250000   \n",
       "max                                170.000000   \n",
       "\n",
       "       Economically active Self-employed  Economically active Unemployed  \\\n",
       "count                         116.000000                      116.000000   \n",
       "mean                           20.129310                       13.112069   \n",
       "std                             8.375461                        6.925406   \n",
       "min                             3.000000                        0.000000   \n",
       "25%                            14.000000                        7.000000   \n",
       "50%                            18.000000                       12.000000   \n",
       "75%                            26.000000                       19.000000   \n",
       "max                            41.000000                       30.000000   \n",
       "\n",
       "       Economically active Full-time student  Economically Inactive  \\\n",
       "count                             116.000000             116.000000   \n",
       "mean                                9.922414              75.732759   \n",
       "std                                13.333287              30.058597   \n",
       "min                                 0.000000              28.000000   \n",
       "25%                                 4.000000              56.000000   \n",
       "50%                                 8.000000              69.500000   \n",
       "75%                                12.000000              92.250000   \n",
       "max                               139.000000             229.000000   \n",
       "\n",
       "       Economically inactive Retired  \\\n",
       "count                     116.000000   \n",
       "mean                       21.034483   \n",
       "std                         8.593153   \n",
       "min                         2.000000   \n",
       "25%                        14.750000   \n",
       "50%                        20.000000   \n",
       "75%                        26.000000   \n",
       "max                        50.000000   \n",
       "\n",
       "       Economically inactive Student (including full-time students)  \\\n",
       "count                                         116.000000              \n",
       "mean                                           15.500000              \n",
       "std                                            17.412889              \n",
       "min                                             2.000000              \n",
       "25%                                             9.000000              \n",
       "50%                                            12.000000              \n",
       "75%                                            18.000000              \n",
       "max                                           177.000000              \n",
       "\n",
       "       Economically inactive Looking after home or family  \\\n",
       "count                                         116.000000    \n",
       "mean                                           14.000000    \n",
       "std                                             8.781403    \n",
       "min                                             1.000000    \n",
       "25%                                             7.000000    \n",
       "50%                                            12.000000    \n",
       "75%                                            19.000000    \n",
       "max                                            44.000000    \n",
       "\n",
       "       Economically inactive Long-term sick or disabled  \\\n",
       "count                                        116.000000   \n",
       "mean                                          16.586207   \n",
       "std                                            9.050649   \n",
       "min                                            2.000000   \n",
       "25%                                           10.000000   \n",
       "50%                                           15.000000   \n",
       "75%                                           22.000000   \n",
       "max                                           48.000000   \n",
       "\n",
       "       Economically inactive Other  Unemployed Age 16 to 24  \\\n",
       "count                   116.000000               116.000000   \n",
       "mean                      8.612069                 3.706897   \n",
       "std                       6.282857                 2.800675   \n",
       "min                       0.000000                 0.000000   \n",
       "25%                       4.000000                 1.000000   \n",
       "50%                       8.000000                 3.000000   \n",
       "75%                      11.000000                 5.000000   \n",
       "max                      33.000000                13.000000   \n",
       "\n",
       "       Unemployed Age 50 to 74  Unemployed Never worked  Long-term unemployed  \n",
       "count               116.000000               116.000000            116.000000  \n",
       "mean                  2.129310                 2.784483              4.818966  \n",
       "std                   1.853458                 2.525715              3.226518  \n",
       "min                   0.000000                 0.000000              0.000000  \n",
       "25%                   1.000000                 1.000000              2.000000  \n",
       "50%                   2.000000                 2.000000              4.000000  \n",
       "75%                   3.000000                 4.250000              6.250000  \n",
       "max                   8.000000                10.000000             16.000000  "
      ]
     },
     "execution_count": 9,
     "metadata": {},
     "output_type": "execute_result"
    }
   ],
   "source": [
    "local_data.describe()"
   ]
  },
  {
   "cell_type": "code",
   "execution_count": 10,
   "metadata": {},
   "outputs": [
    {
     "data": {
      "text/html": [
       "<div>\n",
       "<style scoped>\n",
       "    .dataframe tbody tr th:only-of-type {\n",
       "        vertical-align: middle;\n",
       "    }\n",
       "\n",
       "    .dataframe tbody tr th {\n",
       "        vertical-align: top;\n",
       "    }\n",
       "\n",
       "    .dataframe thead th {\n",
       "        text-align: right;\n",
       "    }\n",
       "</style>\n",
       "<table border=\"1\" class=\"dataframe\">\n",
       "  <thead>\n",
       "    <tr style=\"text-align: right;\">\n",
       "      <th></th>\n",
       "      <th>date</th>\n",
       "      <th>All usual residents aged 16 to 74</th>\n",
       "      <th>Economically active</th>\n",
       "      <th>Economically active In employment</th>\n",
       "      <th>Economically active Employee Part-time</th>\n",
       "      <th>Economically active Employee Full-time</th>\n",
       "      <th>Economically active Self-employed</th>\n",
       "      <th>Economically active Unemployed</th>\n",
       "      <th>Economically active Full-time student</th>\n",
       "      <th>Economically Inactive</th>\n",
       "      <th>Economically inactive Retired</th>\n",
       "      <th>Economically inactive Student (including full-time students)</th>\n",
       "      <th>Economically inactive Looking after home or family</th>\n",
       "      <th>Economically inactive Long-term sick or disabled</th>\n",
       "      <th>Economically inactive Other</th>\n",
       "      <th>Unemployed Age 16 to 24</th>\n",
       "      <th>Unemployed Age 50 to 74</th>\n",
       "      <th>Unemployed Never worked</th>\n",
       "      <th>Long-term unemployed</th>\n",
       "    </tr>\n",
       "  </thead>\n",
       "  <tbody>\n",
       "    <tr>\n",
       "      <th>count</th>\n",
       "      <td>10036.0</td>\n",
       "      <td>10036.000000</td>\n",
       "      <td>10036.000000</td>\n",
       "      <td>10036.000000</td>\n",
       "      <td>10036.000000</td>\n",
       "      <td>10036.000000</td>\n",
       "      <td>10036.00000</td>\n",
       "      <td>10036.000000</td>\n",
       "      <td>10036.000000</td>\n",
       "      <td>10036.000000</td>\n",
       "      <td>10036.000000</td>\n",
       "      <td>10036.000000</td>\n",
       "      <td>10036.000000</td>\n",
       "      <td>10036.000000</td>\n",
       "      <td>10036.000000</td>\n",
       "      <td>10036.000000</td>\n",
       "      <td>10036.000000</td>\n",
       "      <td>10036.000000</td>\n",
       "      <td>10036.000000</td>\n",
       "    </tr>\n",
       "    <tr>\n",
       "      <th>mean</th>\n",
       "      <td>2011.0</td>\n",
       "      <td>223.711240</td>\n",
       "      <td>147.143782</td>\n",
       "      <td>130.171283</td>\n",
       "      <td>31.189916</td>\n",
       "      <td>79.648067</td>\n",
       "      <td>19.33330</td>\n",
       "      <td>9.634217</td>\n",
       "      <td>7.338282</td>\n",
       "      <td>76.567457</td>\n",
       "      <td>36.020426</td>\n",
       "      <td>13.339976</td>\n",
       "      <td>8.608609</td>\n",
       "      <td>14.025508</td>\n",
       "      <td>4.572937</td>\n",
       "      <td>3.066162</td>\n",
       "      <td>1.675967</td>\n",
       "      <td>1.489737</td>\n",
       "      <td>3.829016</td>\n",
       "    </tr>\n",
       "    <tr>\n",
       "      <th>std</th>\n",
       "      <td>0.0</td>\n",
       "      <td>64.685946</td>\n",
       "      <td>43.652680</td>\n",
       "      <td>41.038376</td>\n",
       "      <td>9.931464</td>\n",
       "      <td>29.722592</td>\n",
       "      <td>14.28359</td>\n",
       "      <td>6.300261</td>\n",
       "      <td>15.313598</td>\n",
       "      <td>38.711130</td>\n",
       "      <td>15.486139</td>\n",
       "      <td>33.957502</td>\n",
       "      <td>5.484050</td>\n",
       "      <td>9.821047</td>\n",
       "      <td>10.951347</td>\n",
       "      <td>2.752434</td>\n",
       "      <td>1.485698</td>\n",
       "      <td>1.865106</td>\n",
       "      <td>3.231950</td>\n",
       "    </tr>\n",
       "    <tr>\n",
       "      <th>min</th>\n",
       "      <td>2011.0</td>\n",
       "      <td>56.000000</td>\n",
       "      <td>8.000000</td>\n",
       "      <td>5.000000</td>\n",
       "      <td>1.000000</td>\n",
       "      <td>4.000000</td>\n",
       "      <td>0.00000</td>\n",
       "      <td>0.000000</td>\n",
       "      <td>0.000000</td>\n",
       "      <td>3.000000</td>\n",
       "      <td>0.000000</td>\n",
       "      <td>0.000000</td>\n",
       "      <td>0.000000</td>\n",
       "      <td>0.000000</td>\n",
       "      <td>0.000000</td>\n",
       "      <td>0.000000</td>\n",
       "      <td>0.000000</td>\n",
       "      <td>0.000000</td>\n",
       "      <td>0.000000</td>\n",
       "    </tr>\n",
       "    <tr>\n",
       "      <th>25%</th>\n",
       "      <td>2011.0</td>\n",
       "      <td>193.000000</td>\n",
       "      <td>120.000000</td>\n",
       "      <td>104.000000</td>\n",
       "      <td>25.000000</td>\n",
       "      <td>60.000000</td>\n",
       "      <td>10.00000</td>\n",
       "      <td>5.000000</td>\n",
       "      <td>3.000000</td>\n",
       "      <td>61.000000</td>\n",
       "      <td>25.000000</td>\n",
       "      <td>6.000000</td>\n",
       "      <td>5.000000</td>\n",
       "      <td>7.000000</td>\n",
       "      <td>2.000000</td>\n",
       "      <td>1.000000</td>\n",
       "      <td>1.000000</td>\n",
       "      <td>0.000000</td>\n",
       "      <td>2.000000</td>\n",
       "    </tr>\n",
       "    <tr>\n",
       "      <th>50%</th>\n",
       "      <td>2011.0</td>\n",
       "      <td>218.000000</td>\n",
       "      <td>144.000000</td>\n",
       "      <td>127.000000</td>\n",
       "      <td>31.000000</td>\n",
       "      <td>76.000000</td>\n",
       "      <td>16.00000</td>\n",
       "      <td>8.000000</td>\n",
       "      <td>5.000000</td>\n",
       "      <td>73.000000</td>\n",
       "      <td>35.000000</td>\n",
       "      <td>9.000000</td>\n",
       "      <td>8.000000</td>\n",
       "      <td>12.000000</td>\n",
       "      <td>4.000000</td>\n",
       "      <td>2.000000</td>\n",
       "      <td>1.000000</td>\n",
       "      <td>1.000000</td>\n",
       "      <td>3.000000</td>\n",
       "    </tr>\n",
       "    <tr>\n",
       "      <th>75%</th>\n",
       "      <td>2011.0</td>\n",
       "      <td>245.000000</td>\n",
       "      <td>170.000000</td>\n",
       "      <td>152.000000</td>\n",
       "      <td>37.000000</td>\n",
       "      <td>94.000000</td>\n",
       "      <td>24.00000</td>\n",
       "      <td>13.000000</td>\n",
       "      <td>8.000000</td>\n",
       "      <td>87.000000</td>\n",
       "      <td>45.000000</td>\n",
       "      <td>13.000000</td>\n",
       "      <td>11.000000</td>\n",
       "      <td>19.000000</td>\n",
       "      <td>6.000000</td>\n",
       "      <td>4.000000</td>\n",
       "      <td>2.000000</td>\n",
       "      <td>2.000000</td>\n",
       "      <td>5.000000</td>\n",
       "    </tr>\n",
       "    <tr>\n",
       "      <th>max</th>\n",
       "      <td>2011.0</td>\n",
       "      <td>2094.000000</td>\n",
       "      <td>769.000000</td>\n",
       "      <td>740.000000</td>\n",
       "      <td>127.000000</td>\n",
       "      <td>712.000000</td>\n",
       "      <td>135.00000</td>\n",
       "      <td>71.000000</td>\n",
       "      <td>546.000000</td>\n",
       "      <td>1454.000000</td>\n",
       "      <td>134.000000</td>\n",
       "      <td>1432.000000</td>\n",
       "      <td>46.000000</td>\n",
       "      <td>93.000000</td>\n",
       "      <td>950.000000</td>\n",
       "      <td>36.000000</td>\n",
       "      <td>15.000000</td>\n",
       "      <td>22.000000</td>\n",
       "      <td>30.000000</td>\n",
       "    </tr>\n",
       "  </tbody>\n",
       "</table>\n",
       "</div>"
      ],
      "text/plain": [
       "          date  All usual residents aged 16 to 74  Economically active  \\\n",
       "count  10036.0                       10036.000000         10036.000000   \n",
       "mean    2011.0                         223.711240           147.143782   \n",
       "std        0.0                          64.685946            43.652680   \n",
       "min     2011.0                          56.000000             8.000000   \n",
       "25%     2011.0                         193.000000           120.000000   \n",
       "50%     2011.0                         218.000000           144.000000   \n",
       "75%     2011.0                         245.000000           170.000000   \n",
       "max     2011.0                        2094.000000           769.000000   \n",
       "\n",
       "       Economically active In employment  \\\n",
       "count                       10036.000000   \n",
       "mean                          130.171283   \n",
       "std                            41.038376   \n",
       "min                             5.000000   \n",
       "25%                           104.000000   \n",
       "50%                           127.000000   \n",
       "75%                           152.000000   \n",
       "max                           740.000000   \n",
       "\n",
       "       Economically active Employee Part-time  \\\n",
       "count                            10036.000000   \n",
       "mean                                31.189916   \n",
       "std                                  9.931464   \n",
       "min                                  1.000000   \n",
       "25%                                 25.000000   \n",
       "50%                                 31.000000   \n",
       "75%                                 37.000000   \n",
       "max                                127.000000   \n",
       "\n",
       "       Economically active Employee Full-time  \\\n",
       "count                            10036.000000   \n",
       "mean                                79.648067   \n",
       "std                                 29.722592   \n",
       "min                                  4.000000   \n",
       "25%                                 60.000000   \n",
       "50%                                 76.000000   \n",
       "75%                                 94.000000   \n",
       "max                                712.000000   \n",
       "\n",
       "       Economically active Self-employed  Economically active Unemployed  \\\n",
       "count                        10036.00000                    10036.000000   \n",
       "mean                            19.33330                        9.634217   \n",
       "std                             14.28359                        6.300261   \n",
       "min                              0.00000                        0.000000   \n",
       "25%                             10.00000                        5.000000   \n",
       "50%                             16.00000                        8.000000   \n",
       "75%                             24.00000                       13.000000   \n",
       "max                            135.00000                       71.000000   \n",
       "\n",
       "       Economically active Full-time student  Economically Inactive  \\\n",
       "count                           10036.000000           10036.000000   \n",
       "mean                                7.338282              76.567457   \n",
       "std                                15.313598              38.711130   \n",
       "min                                 0.000000               3.000000   \n",
       "25%                                 3.000000              61.000000   \n",
       "50%                                 5.000000              73.000000   \n",
       "75%                                 8.000000              87.000000   \n",
       "max                               546.000000            1454.000000   \n",
       "\n",
       "       Economically inactive Retired  \\\n",
       "count                   10036.000000   \n",
       "mean                       36.020426   \n",
       "std                        15.486139   \n",
       "min                         0.000000   \n",
       "25%                        25.000000   \n",
       "50%                        35.000000   \n",
       "75%                        45.000000   \n",
       "max                       134.000000   \n",
       "\n",
       "       Economically inactive Student (including full-time students)  \\\n",
       "count                                       10036.000000              \n",
       "mean                                           13.339976              \n",
       "std                                            33.957502              \n",
       "min                                             0.000000              \n",
       "25%                                             6.000000              \n",
       "50%                                             9.000000              \n",
       "75%                                            13.000000              \n",
       "max                                          1432.000000              \n",
       "\n",
       "       Economically inactive Looking after home or family  \\\n",
       "count                                       10036.000000    \n",
       "mean                                            8.608609    \n",
       "std                                             5.484050    \n",
       "min                                             0.000000    \n",
       "25%                                             5.000000    \n",
       "50%                                             8.000000    \n",
       "75%                                            11.000000    \n",
       "max                                            46.000000    \n",
       "\n",
       "       Economically inactive Long-term sick or disabled  \\\n",
       "count                                      10036.000000   \n",
       "mean                                          14.025508   \n",
       "std                                            9.821047   \n",
       "min                                            0.000000   \n",
       "25%                                            7.000000   \n",
       "50%                                           12.000000   \n",
       "75%                                           19.000000   \n",
       "max                                           93.000000   \n",
       "\n",
       "       Economically inactive Other  Unemployed Age 16 to 24  \\\n",
       "count                 10036.000000             10036.000000   \n",
       "mean                      4.572937                 3.066162   \n",
       "std                      10.951347                 2.752434   \n",
       "min                       0.000000                 0.000000   \n",
       "25%                       2.000000                 1.000000   \n",
       "50%                       4.000000                 2.000000   \n",
       "75%                       6.000000                 4.000000   \n",
       "max                     950.000000                36.000000   \n",
       "\n",
       "       Unemployed Age 50 to 74  Unemployed Never worked  Long-term unemployed  \n",
       "count             10036.000000             10036.000000          10036.000000  \n",
       "mean                  1.675967                 1.489737              3.829016  \n",
       "std                   1.485698                 1.865106              3.231950  \n",
       "min                   0.000000                 0.000000              0.000000  \n",
       "25%                   1.000000                 0.000000              2.000000  \n",
       "50%                   1.000000                 1.000000              3.000000  \n",
       "75%                   2.000000                 2.000000              5.000000  \n",
       "max                  15.000000                22.000000             30.000000  "
      ]
     },
     "execution_count": 10,
     "metadata": {},
     "output_type": "execute_result"
    }
   ],
   "source": [
    "data.describe()"
   ]
  },
  {
   "cell_type": "markdown",
   "metadata": {},
   "source": [
    "We now look at a few of these employment statistics to see if our local OAs show any interesting trends. I generate a box plot for each of the chosen statistics, and also a bar chart for the top 1 pecentile of OAs in Wales (top percentile is top 100 OAs as there are 10036 OAs in Wales). I print out the OA code for an local OAs in the top 1 pecentile so we can see if there are any that crop up a lot. "
   ]
  },
  {
   "cell_type": "code",
   "execution_count": 11,
   "metadata": {},
   "outputs": [],
   "source": [
    "unemployed_rate_lnl = pd.concat([local_data['Economically active Unemployed']/local_data['Economically active'],\\\n",
    "                            data['Economically active Unemployed']/data['Economically active']],\\\n",
    "                           axis=1,keys=['local','non-local'])\n"
   ]
  },
  {
   "cell_type": "code",
   "execution_count": 12,
   "metadata": {},
   "outputs": [
    {
     "data": {
      "text/plain": [
       "<matplotlib.axes._subplots.AxesSubplot at 0x1181152e8>"
      ]
     },
     "execution_count": 12,
     "metadata": {},
     "output_type": "execute_result"
    }
   ],
   "source": [
    "unemployed_rate_lnl.plot(kind='box',title='Rate of Unemployment')"
   ]
  },
  {
   "cell_type": "code",
   "execution_count": null,
   "metadata": {},
   "outputs": [],
   "source": [
    "order = unemployed_rate_lnl['non-local'].dropna().sort_values().keys()\n",
    "unemployed_rate_lnl['non-local'][oa_codes_list]=np.nan\n",
    "unemployed_rate_lnl.set_index(unemployed_rate_lnl.index.values).loc[order[-100:]].plot(kind='bar',title='Unemployment Rate',figsize=(15,7))\n",
    "[code for code in order[-100:] if code in oa_codes_list]"
   ]
  },
  {
   "cell_type": "code",
   "execution_count": 14,
   "metadata": {},
   "outputs": [],
   "source": [
    "care_rate_lnl = pd.concat([local_data['Economically inactive Looking after home or family']/local_data['All usual residents aged 16 to 74'],\\\n",
    "                            data['Economically inactive Looking after home or family']/data['All usual residents aged 16 to 74']],\\\n",
    "                           axis=1,keys=['local','non-local'])\n"
   ]
  },
  {
   "cell_type": "code",
   "execution_count": 15,
   "metadata": {
    "scrolled": true
   },
   "outputs": [
    {
     "data": {
      "text/plain": [
       "<matplotlib.axes._subplots.AxesSubplot at 0x10f665da0>"
      ]
     },
     "execution_count": 15,
     "metadata": {},
     "output_type": "execute_result"
    },
    {
     "data": {
      "image/png": "[encoded data removed]",
      "text/plain": [
       "<matplotlib.figure.Figure at 0x10f838dd8>"
      ]
     },
     "metadata": {},
     "output_type": "display_data"
    }
   ],
   "source": [
    "care_rate_lnl.plot(kind='box',title='Caring for Family rate')"
   ]
  },
  {
   "cell_type": "code",
   "execution_count": 16,
   "metadata": {},
   "outputs": [
    {
     "data": {
      "text/plain": [
       "['W00009105', 'W00009570', 'W00009574', 'W00009101']"
      ]
     },
     "execution_count": 16,
     "metadata": {},
     "output_type": "execute_result"
    },
    {
     "data": {
      "image/png": "[encoded data removed]",
      "text/plain": [
       "<matplotlib.figure.Figure at 0x10f9629e8>"
      ]
     },
     "metadata": {},
     "output_type": "display_data"
    }
   ],
   "source": [
    "order = care_rate_lnl['non-local'].dropna().sort_values().keys()\n",
    "care_rate_lnl['non-local'][oa_codes_list]=np.nan\n",
    "care_rate_lnl.set_index(care_rate_lnl.index.values).loc[order[-100:]].plot(kind='bar',title='Care rate',figsize=(15,7))\n",
    "[code for code in order[-100:] if code in oa_codes_list]"
   ]
  },
  {
   "cell_type": "code",
   "execution_count": 17,
   "metadata": {},
   "outputs": [],
   "source": [
    "other_inactive_rate_lnl = pd.concat([local_data['Economically inactive Other']/local_data['All usual residents aged 16 to 74'],\\\n",
    "                            data['Economically inactive Other']/data['All usual residents aged 16 to 74']],\\\n",
    "                           axis=1,keys=['local','non-local'])"
   ]
  },
  {
   "cell_type": "code",
   "execution_count": 18,
   "metadata": {},
   "outputs": [
    {
     "data": {
      "text/plain": [
       "<matplotlib.axes._subplots.AxesSubplot at 0x10f605320>"
      ]
     },
     "execution_count": 18,
     "metadata": {},
     "output_type": "execute_result"
    },
    {
     "data": {
      "image/png": "[encoded data removed]",
      "text/plain": [
       "<matplotlib.figure.Figure at 0x10fc068d0>"
      ]
     },
     "metadata": {},
     "output_type": "display_data"
    }
   ],
   "source": [
    "other_inactive_rate_lnl.plot(kind='box',title='Other inactive rate',ylim=(0,0.2))"
   ]
  },
  {
   "cell_type": "code",
   "execution_count": 19,
   "metadata": {},
   "outputs": [
    {
     "data": {
      "text/plain": [
       "['W00009108', 'W00009091', 'W00009570', 'W00009135', 'W00009575', 'W00009107']"
      ]
     },
     "execution_count": 19,
     "metadata": {},
     "output_type": "execute_result"
    },
    {
     "data": {
      "image/png": "[encoded data removed]",
      "text/plain": [
       "<matplotlib.figure.Figure at 0x11aabff28>"
      ]
     },
     "metadata": {},
     "output_type": "display_data"
    }
   ],
   "source": [
    "order = other_inactive_rate_lnl['non-local'].dropna().sort_values().keys()\n",
    "other_inactive_rate_lnl['non-local'][oa_codes_list]=np.nan\n",
    "other_inactive_rate_lnl.set_index(other_inactive_rate_lnl.index.values).loc[order[-100:]].plot(kind='bar',title='Other Inactive Rate',figsize=(15,7))\n",
    "[code for code in order[-100:] if code in oa_codes_list]"
   ]
  },
  {
   "cell_type": "code",
   "execution_count": 20,
   "metadata": {},
   "outputs": [],
   "source": [
    "long_term_unemplyed_rate_lnl = pd.concat([local_data['Long-term unemployed']/local_data['All usual residents aged 16 to 74'],\\\n",
    "                            data['Long-term unemployed']/data['All usual residents aged 16 to 74']],\\\n",
    "                           axis=1,keys=['local','non-local'])"
   ]
  },
  {
   "cell_type": "code",
   "execution_count": 21,
   "metadata": {},
   "outputs": [
    {
     "data": {
      "text/plain": [
       "<matplotlib.axes._subplots.AxesSubplot at 0x10fa10710>"
      ]
     },
     "execution_count": 21,
     "metadata": {},
     "output_type": "execute_result"
    },
    {
     "data": {
      "image/png": "[encoded data removed]",
      "text/plain": [
       "<matplotlib.figure.Figure at 0x11ae1bb00>"
      ]
     },
     "metadata": {},
     "output_type": "display_data"
    }
   ],
   "source": [
    "long_term_unemplyed_rate_lnl.plot(kind='box',title='Long term unemployment rate',ylim=(0,0.08))"
   ]
  },
  {
   "cell_type": "code",
   "execution_count": 22,
   "metadata": {},
   "outputs": [
    {
     "data": {
      "text/plain": [
       "['W00009118', 'W00009575']"
      ]
     },
     "execution_count": 22,
     "metadata": {},
     "output_type": "execute_result"
    },
    {
     "data": {
      "image/png": "[encoded data removed]",
      "text/plain": [
       "<matplotlib.figure.Figure at 0x10fcb5b00>"
      ]
     },
     "metadata": {},
     "output_type": "display_data"
    }
   ],
   "source": [
    "order = long_term_unemplyed_rate_lnl['non-local'].dropna().sort_values().keys()\n",
    "long_term_unemplyed_rate_lnl['non-local'][oa_codes_list]=np.nan\n",
    "long_term_unemplyed_rate_lnl.set_index(long_term_unemplyed_rate_lnl.index.values).loc[order[-100:]].plot(kind='bar',title='Long Term Unemployment Rate',figsize=(15,7))\n",
    "[code for code in order[-100:] if code in oa_codes_list]"
   ]
  },
  {
   "cell_type": "code",
   "execution_count": 23,
   "metadata": {},
   "outputs": [],
   "source": [
    "never_worked_rate_lnl = pd.concat([local_data['Unemployed Never worked']/local_data['All usual residents aged 16 to 74'],\\\n",
    "                            data['Unemployed Never worked']/data['All usual residents aged 16 to 74']],\\\n",
    "                           axis=1,keys=['local','non-local'])"
   ]
  },
  {
   "cell_type": "code",
   "execution_count": 24,
   "metadata": {},
   "outputs": [
    {
     "data": {
      "text/plain": [
       "<matplotlib.axes._subplots.AxesSubplot at 0x11abc09b0>"
      ]
     },
     "execution_count": 24,
     "metadata": {},
     "output_type": "execute_result"
    },
    {
     "data": {
      "image/png": "[encoded data removed]",
      "text/plain": [
       "<matplotlib.figure.Figure at 0x11ae08780>"
      ]
     },
     "metadata": {},
     "output_type": "display_data"
    }
   ],
   "source": [
    "never_worked_rate_lnl.plot(kind='box',title='Never Worked rate',ylim=(0,0.08))"
   ]
  },
  {
   "cell_type": "code",
   "execution_count": 25,
   "metadata": {},
   "outputs": [
    {
     "data": {
      "text/plain": [
       "['W00009091']"
      ]
     },
     "execution_count": 25,
     "metadata": {},
     "output_type": "execute_result"
    },
    {
     "data": {
      "image/png": "[encoded data removed]",
      "text/plain": [
       "<matplotlib.figure.Figure at 0x10fc66208>"
      ]
     },
     "metadata": {},
     "output_type": "display_data"
    }
   ],
   "source": [
    "order = never_worked_rate_lnl['non-local'].dropna().sort_values().keys()\n",
    "never_worked_rate_lnl['non-local'][oa_codes_list]=np.nan\n",
    "never_worked_rate_lnl.set_index(never_worked_rate_lnl.index.values).loc[order[-100:]].plot(kind='bar',title='Never Worked Rate',figsize=(15,7))\n",
    "[code for code in order[-100:] if code in oa_codes_list]\n"
   ]
  },
  {
   "cell_type": "code",
   "execution_count": 26,
   "metadata": {},
   "outputs": [],
   "source": [
    "disabled_rate_lnl = pd.concat([local_data['Economically inactive Long-term sick or disabled']/local_data['All usual residents aged 16 to 74'],\\\n",
    "                            data['Economically inactive Long-term sick or disabled']/data['All usual residents aged 16 to 74']],\\\n",
    "                           axis=1,keys=['local','non-local'])"
   ]
  },
  {
   "cell_type": "code",
   "execution_count": 27,
   "metadata": {},
   "outputs": [
    {
     "data": {
      "text/plain": [
       "<matplotlib.axes._subplots.AxesSubplot at 0x11b145c50>"
      ]
     },
     "execution_count": 27,
     "metadata": {},
     "output_type": "execute_result"
    },
    {
     "data": {
      "image/png": "[encoded data removed]",
      "text/plain": [
       "<matplotlib.figure.Figure at 0x11af228d0>"
      ]
     },
     "metadata": {},
     "output_type": "display_data"
    }
   ],
   "source": [
    "disabled_rate_lnl.plot(kind='box',title='Disabled rate',ylim=(0,0.25))"
   ]
  },
  {
   "cell_type": "code",
   "execution_count": 28,
   "metadata": {},
   "outputs": [
    {
     "data": {
      "text/plain": [
       "['W00008884']"
      ]
     },
     "execution_count": 28,
     "metadata": {},
     "output_type": "execute_result"
    },
    {
     "data": {
      "image/png": "[encoded data removed]",
      "text/plain": [
       "<matplotlib.figure.Figure at 0x10fc71978>"
      ]
     },
     "metadata": {},
     "output_type": "display_data"
    }
   ],
   "source": [
    "order = disabled_rate_lnl['non-local'].dropna().sort_values().keys()\n",
    "disabled_rate_lnl['non-local'][oa_codes_list]=np.nan\n",
    "disabled_rate_lnl.set_index(disabled_rate_lnl.index.values).loc[order[-100:]].plot(kind='bar',title='Disabled Rate',figsize=(15,7))\n",
    "[code for code in order[-100:] if code in oa_codes_list]"
   ]
  },
  {
   "cell_type": "code",
   "execution_count": 36,
   "metadata": {},
   "outputs": [
    {
     "data": {
      "text/plain": [
       "['W01001768', 'W01001855', 'W01001856']"
      ]
     },
     "execution_count": 36,
     "metadata": {},
     "output_type": "execute_result"
    }
   ],
   "source": [
    "[key for key in oa_codes_dict.keys() if np.isin(['W00009105', 'W00009570', 'W00009574', 'W00009101'], oa_codes_dict[key]).any()]"
   ]
  },
  {
   "cell_type": "markdown",
   "metadata": {},
   "source": [
    "Apart from that the SRCDC area has 4 OAs in the top 1 percentile for Wales for Caring for a family member, this information does not seem very informative. It would probably be more useful to look at LSOA level rather than OA level. I work on this is a separate notebook. \n",
    "\n",
    "Also note that the OA code W00009091 has appeared several times. This corresponds to an area in the middle of Grangetown that is known to be deprived. "
   ]
  },
  {
   "cell_type": "code",
   "execution_count": null,
   "metadata": {},
   "outputs": [],
   "source": []
  }
 ],
 "metadata": {
  "kernelspec": {
   "display_name": "Python 3",
   "language": "python",
   "name": "python3"
  },
  "language_info": {
   "codemirror_mode": {
    "name": "ipython",
    "version": 3
   },
   "file_extension": ".py",
   "mimetype": "text/x-python",
   "name": "python",
   "nbconvert_exporter": "python",
   "pygments_lexer": "ipython3",
   "version": "3.6.4"
  }
 },
 "nbformat": 4,
 "nbformat_minor": 2
}
